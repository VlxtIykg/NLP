{
  "cells": [
    {
      "cell_type": "markdown",
      "metadata": {},
      "source": [
        "## Gotta import stuff duh"
      ]
    },
    {
      "cell_type": "code",
      "execution_count": 22,
      "metadata": {
        "id": "n2evB6SX4ZZ5"
      },
      "outputs": [
        {
          "name": "stderr",
          "output_type": "stream",
          "text": [
            "ic| tf.config.list_physical_devices(\"GPU\"): [PhysicalDevice(name='/physical_device:GPU:0', device_type='GPU')]\n"
          ]
        }
      ],
      "source": [
        "from icecream import ic\n",
        "from keras.layers import Dense, Dropout, Input \n",
        "from keras.losses import binary_crossentropy\n",
        "from keras.models import load_model, Sequential, save_model # tba later  # noqa: F401\n",
        "from keras.optimizers import SGD\n",
        "\n",
        "import matplotlib.pyplot as plt\n",
        "from numpy import ndarray\n",
        "import numpy as np\n",
        "\n",
        "import pandas as pd\n",
        "import re\n",
        "\n",
        "from sklearn.feature_extraction.text import TfidfVectorizer\n",
        "from sklearn.metrics import classification_report\n",
        "from sklearn.metrics import confusion_matrix\n",
        "from sklearn.model_selection import train_test_split\n",
        "import tensorflow as tf\n",
        "\n",
        "ic(tf.config.list_physical_devices(\"GPU\"))\n",
        "pd.set_option('display.max_colwidth', 200)"
      ]
    },
    {
      "cell_type": "markdown",
      "metadata": {
        "id": "WuS6u41w712c"
      },
      "source": [
        "## Loading and Preparing the Dataset\n",
        "\n",
        "1. Load the dataset and setting the columns names to 'Reviews' and 'Sentiment'."
      ]
    },
    {
      "cell_type": "code",
      "execution_count": 23,
      "metadata": {
        "id": "v-pHgv-C7rEY"
      },
      "outputs": [],
      "source": [
        "COLUMN_NAMES=['Reviews','Sentiment']\n",
        "amazon_reviews = pd.read_csv(\"./KerasResources/amazon_cells_labelled.csv\")\n",
        "amazon_reviews.columns = COLUMN_NAMES"
      ]
    },
    {
      "cell_type": "markdown",
      "metadata": {
        "id": "e1C8YyUM9Qxa"
      },
      "source": [
        "## Data representation"
      ]
    },
    {
      "cell_type": "code",
      "execution_count": 24,
      "metadata": {
        "colab": {
          "base_uri": "https://localhost:8080/",
          "height": 424
        },
        "id": "_cbdAJQ188Nm",
        "outputId": "176fb896-92d7-4191-a8c4-7ad112b9a36b"
      },
      "outputs": [
        {
          "data": {
            "text/html": [
              "<div>\n",
              "<style scoped>\n",
              "    .dataframe tbody tr th:only-of-type {\n",
              "        vertical-align: middle;\n",
              "    }\n",
              "\n",
              "    .dataframe tbody tr th {\n",
              "        vertical-align: top;\n",
              "    }\n",
              "\n",
              "    .dataframe thead th {\n",
              "        text-align: right;\n",
              "    }\n",
              "</style>\n",
              "<table border=\"1\" class=\"dataframe\">\n",
              "  <thead>\n",
              "    <tr style=\"text-align: right;\">\n",
              "      <th></th>\n",
              "      <th>Reviews</th>\n",
              "      <th>Sentiment</th>\n",
              "    </tr>\n",
              "  </thead>\n",
              "  <tbody>\n",
              "    <tr>\n",
              "      <th>0</th>\n",
              "      <td>So there is no way for me to plug it in here in the US unless I go by a converter.</td>\n",
              "      <td>0</td>\n",
              "    </tr>\n",
              "    <tr>\n",
              "      <th>1</th>\n",
              "      <td>Good case, Excellent value.</td>\n",
              "      <td>1</td>\n",
              "    </tr>\n",
              "    <tr>\n",
              "      <th>2</th>\n",
              "      <td>Great for the jawbone.</td>\n",
              "      <td>1</td>\n",
              "    </tr>\n",
              "    <tr>\n",
              "      <th>3</th>\n",
              "      <td>Tied to charger for conversations lasting more than 45 minutes.MAJOR PROBLEMS!!</td>\n",
              "      <td>0</td>\n",
              "    </tr>\n",
              "    <tr>\n",
              "      <th>4</th>\n",
              "      <td>The mic is great.</td>\n",
              "      <td>1</td>\n",
              "    </tr>\n",
              "    <tr>\n",
              "      <th>5</th>\n",
              "      <td>I have to jiggle the plug to get it to line up right to get decent volume.</td>\n",
              "      <td>0</td>\n",
              "    </tr>\n",
              "    <tr>\n",
              "      <th>6</th>\n",
              "      <td>If you have several dozen or several hundred contacts, then imagine the fun of sending each of them one by one.</td>\n",
              "      <td>0</td>\n",
              "    </tr>\n",
              "    <tr>\n",
              "      <th>7</th>\n",
              "      <td>If you are Razr owner...you must have this!</td>\n",
              "      <td>1</td>\n",
              "    </tr>\n",
              "    <tr>\n",
              "      <th>8</th>\n",
              "      <td>Needless to say, I wasted my money.</td>\n",
              "      <td>0</td>\n",
              "    </tr>\n",
              "    <tr>\n",
              "      <th>9</th>\n",
              "      <td>What a waste of money and time!.</td>\n",
              "      <td>0</td>\n",
              "    </tr>\n",
              "  </tbody>\n",
              "</table>\n",
              "</div>"
            ],
            "text/plain": [
              "                                                                                                           Reviews  \\\n",
              "0                               So there is no way for me to plug it in here in the US unless I go by a converter.   \n",
              "1                                                                                      Good case, Excellent value.   \n",
              "2                                                                                           Great for the jawbone.   \n",
              "3                                  Tied to charger for conversations lasting more than 45 minutes.MAJOR PROBLEMS!!   \n",
              "4                                                                                                The mic is great.   \n",
              "5                                       I have to jiggle the plug to get it to line up right to get decent volume.   \n",
              "6  If you have several dozen or several hundred contacts, then imagine the fun of sending each of them one by one.   \n",
              "7                                                                      If you are Razr owner...you must have this!   \n",
              "8                                                                              Needless to say, I wasted my money.   \n",
              "9                                                                                 What a waste of money and time!.   \n",
              "\n",
              "   Sentiment  \n",
              "0          0  \n",
              "1          1  \n",
              "2          1  \n",
              "3          0  \n",
              "4          1  \n",
              "5          0  \n",
              "6          0  \n",
              "7          1  \n",
              "8          0  \n",
              "9          0  "
            ]
          },
          "execution_count": 24,
          "metadata": {},
          "output_type": "execute_result"
        }
      ],
      "source": [
        "amazon_reviews.head(10)"
      ]
    },
    {
      "cell_type": "markdown",
      "metadata": {
        "id": "p1KpJpAb9mGs"
      },
      "source": [
        "## Classification visualization\n",
        "\n",
        "1. Create a pandas series object called 'sentiment_count' and assign it the sentiment count of the 'amazon_reviews' dataframe."
      ]
    },
    {
      "cell_type": "code",
      "execution_count": 25,
      "metadata": {},
      "outputs": [
        {
          "data": {
            "text/plain": [
              "Sentiment\n",
              "1    500\n",
              "0    500\n",
              "Name: count, dtype: int64"
            ]
          },
          "execution_count": 25,
          "metadata": {},
          "output_type": "execute_result"
        }
      ],
      "source": [
        "sentiment_count = amazon_reviews.Sentiment.value_counts().sort_index(ascending=False)\n",
        "sentiment_count"
      ]
    },
    {
      "cell_type": "code",
      "execution_count": 26,
      "metadata": {
        "colab": {
          "base_uri": "https://localhost:8080/",
          "height": 112
        },
        "id": "MJy61gv79l1O",
        "outputId": "177046c2-2649-44e8-c167-eb53f5ca8fcc"
      },
      "outputs": [
        {
          "data": {
            "text/html": [
              "<div>\n",
              "<style scoped>\n",
              "    .dataframe tbody tr th:only-of-type {\n",
              "        vertical-align: middle;\n",
              "    }\n",
              "\n",
              "    .dataframe tbody tr th {\n",
              "        vertical-align: top;\n",
              "    }\n",
              "\n",
              "    .dataframe thead th {\n",
              "        text-align: right;\n",
              "    }\n",
              "</style>\n",
              "<table border=\"1\" class=\"dataframe\">\n",
              "  <thead>\n",
              "    <tr style=\"text-align: right;\">\n",
              "      <th></th>\n",
              "      <th>Sentiment</th>\n",
              "    </tr>\n",
              "  </thead>\n",
              "  <tbody>\n",
              "    <tr>\n",
              "      <th>Positive</th>\n",
              "      <td>500</td>\n",
              "    </tr>\n",
              "    <tr>\n",
              "      <th>Negative</th>\n",
              "      <td>500</td>\n",
              "    </tr>\n",
              "  </tbody>\n",
              "</table>\n",
              "</div>"
            ],
            "text/plain": [
              "          Sentiment\n",
              "Positive        500\n",
              "Negative        500"
            ]
          },
          "execution_count": 26,
          "metadata": {},
          "output_type": "execute_result"
        }
      ],
      "source": [
        "(pos, neg) = sentiment_count\n",
        "sentiment_count = pd.DataFrame(data=[pos, neg], index=[\"Positive\", \"Negative\"], columns=[\"Sentiment\"])\n",
        "sentiment_count"
      ]
    },
    {
      "cell_type": "markdown",
      "metadata": {},
      "source": [
        "We can tell our classification is a balanced one"
      ]
    },
    {
      "cell_type": "markdown",
      "metadata": {},
      "source": [
        "The `clean()` function is a utility function used for text preprocessing in the notebook. It performs the following operations:\n",
        "\n",
        "- Converts the text to lowercase.\n",
        "- Replaces contractions like \"don't\" with \"do not\" and \"won't\" with \"will not\".\n",
        "- Removes non-alphanumeric characters and special characters.\n",
        "- Removes numbers from the text."
      ]
    },
    {
      "cell_type": "code",
      "execution_count": 27,
      "metadata": {},
      "outputs": [],
      "source": [
        "def clean(text):\n",
        "\ttext = text.lower()\n",
        "\ttext = re.sub(\"don't\", \"do not\", text)\n",
        "\ttext = re.sub(\"won't\", \"will not\", text)\n",
        "\ttext = re.sub(\"\\W+\", \" \", text)\n",
        "\ttext = re.sub(\"\\d+\", \" \", text)\n",
        "\ttext = text.strip()\n",
        "\treturn text"
      ]
    },
    {
      "cell_type": "markdown",
      "metadata": {},
      "source": [
        "Applying the function"
      ]
    },
    {
      "cell_type": "code",
      "execution_count": 28,
      "metadata": {},
      "outputs": [],
      "source": [
        "amazon_reviews.Reviews = amazon_reviews.Reviews.apply(clean)"
      ]
    },
    {
      "cell_type": "markdown",
      "metadata": {
        "id": "MTZ8z6XsfkQl"
      },
      "source": [
        "## Assigning variables for learning, \n",
        "X - features<br>\n",
        "Y - target"
      ]
    },
    {
      "cell_type": "code",
      "execution_count": 29,
      "metadata": {
        "id": "fFLIg4j9FUGW"
      },
      "outputs": [],
      "source": [
        "X = amazon_reviews.Reviews\n",
        "Y = amazon_reviews.Sentiment"
      ]
    },
    {
      "cell_type": "markdown",
      "metadata": {
        "id": "nLUD__Oyfv6a"
      },
      "source": [
        "## Create the vocabulary of the dataset. \n",
        "To be used for embedding/lstm layer if/when integrated"
      ]
    },
    {
      "cell_type": "code",
      "execution_count": 30,
      "metadata": {
        "id": "DZHbgXU9F_OD"
      },
      "outputs": [],
      "source": [
        "vocabulary = set()\n",
        "for data_point in X:\n",
        "\tfor data in data_point.split():\n",
        "\t\tvocabulary.add(data)\n",
        "\n",
        "vocabulary = list(vocabulary)"
      ]
    },
    {
      "cell_type": "markdown",
      "metadata": {
        "id": "4S2awDRUgBSe"
      },
      "source": [
        "## Get a grasp of what's in our vocabulary"
      ]
    },
    {
      "cell_type": "code",
      "execution_count": 31,
      "metadata": {
        "colab": {
          "base_uri": "https://localhost:8080/"
        },
        "id": "LsOHP-WDLywu",
        "outputId": "870be433-9ad8-40e3-ab79-42377f589d9f"
      },
      "outputs": [
        {
          "data": {
            "text/plain": [
              "['keypad', 'tries', 'center', 'technology', 'bought']"
            ]
          },
          "execution_count": 31,
          "metadata": {},
          "output_type": "execute_result"
        }
      ],
      "source": [
        "vocabulary[0:5]"
      ]
    },
    {
      "cell_type": "code",
      "execution_count": 32,
      "metadata": {
        "colab": {
          "base_uri": "https://localhost:8080/"
        },
        "id": "1wQn5HlpGbvW",
        "outputId": "0c2fe0e9-7f5c-4a58-8c5e-c1ac72ea2af5"
      },
      "outputs": [
        {
          "data": {
            "text/plain": [
              "1810"
            ]
          },
          "execution_count": 32,
          "metadata": {},
          "output_type": "execute_result"
        }
      ],
      "source": [
        "len(vocabulary)"
      ]
    },
    {
      "cell_type": "markdown",
      "metadata": {
        "id": "P1UQuGkbEmvq"
      },
      "source": [
        "## Create Document Vectors"
      ]
    },
    {
      "cell_type": "code",
      "execution_count": 33,
      "metadata": {
        "id": "-omvAzASEo4a"
      },
      "outputs": [],
      "source": [
        "class TextEncoder:\n",
        "\t_instance = None\n",
        "\n",
        "\tdef __new__(cls):\n",
        "\t\tif cls._instance is None:\n",
        "\t\t\tcls._instance = super().__new__(cls)\n",
        "\t\t\tcls._instance.tfidf = TfidfVectorizer()\n",
        "\t\t\tcls._instance.encoded_X = None\n",
        "\t\treturn cls._instance\n",
        "\n",
        "\tdef fit_transform(self, X):\n",
        "\t\tif self.encoded_X is None:\n",
        "\t\t\tself.encoded_X = self.tfidf.fit_transform(X).toarray()\n",
        "\t\telse:\n",
        "\t\t\traise Exception(\"Data has already been encoded. Use transform() instead.\")\n",
        "\n",
        "\tdef transform(self, X):\n",
        "\t\tif self.encoded_X is None:\n",
        "\t\t\tself.encoded_X = self.tfidf.fit_transform(X).toarray()\n",
        "\t\telse:\n",
        "\t\t\tself.encoded_X = self.tfidf.transform(self.clean(X)).toarray()\n",
        "\t\treturn self.encoded_X\n",
        "\n",
        "\tdef clean(self, text):\n",
        "\t\ttemp_ = []\n",
        "\t\tfor sentence in text:\n",
        "\t\t\ttext = sentence.lower()\n",
        "\t\t\tsentence = re.sub(\"don't\", \"do not\", text)\n",
        "\t\t\tsentence = re.sub(\"won't\", \"will not\", sentence)\n",
        "\t\t\tsentence = re.sub(\"\\W+\", \" \", sentence)\n",
        "\t\t\tsentence = re.sub(\"\\d+\", \" \", sentence)\n",
        "\t\t\tsentence = sentence.strip()\n",
        "\t\t\ttemp_.append(sentence)\n",
        "\t\treturn temp_\n",
        "\n",
        "te = TextEncoder()\n",
        "if not isinstance(X, ndarray):\n",
        "\tX = te.transform(X)"
      ]
    },
    {
      "cell_type": "code",
      "execution_count": 34,
      "metadata": {
        "colab": {
          "base_uri": "https://localhost:8080/"
        },
        "id": "FVT6ssBLGPXL",
        "outputId": "b94c2db1-29ef-4aec-a97f-a6a3a6795627"
      },
      "outputs": [
        {
          "data": {
            "text/plain": [
              "1000"
            ]
          },
          "execution_count": 34,
          "metadata": {},
          "output_type": "execute_result"
        }
      ],
      "source": [
        "len(X)"
      ]
    },
    {
      "cell_type": "code",
      "execution_count": 35,
      "metadata": {
        "id": "QJ_FmxVIEo1S"
      },
      "outputs": [],
      "source": [
        "# You can encode y using one hot encoding but i prefer binary crossentropy for binary classification\n",
        "# Y = pd.get_dummies(Y)"
      ]
    },
    {
      "cell_type": "markdown",
      "metadata": {
        "id": "v4T9sv_xEzc_"
      },
      "source": [
        "## Train-Test Split\n",
        "\n",
        "To evaluate the performance of our model, we need to split our dataset into training and testing sets. We will use a 70:30 split, where 70% of the data will be used for training and 30% for testing.\n",
        "\n",
        "Here's the code to perform the train-test split:\n"
      ]
    },
    {
      "cell_type": "code",
      "execution_count": 36,
      "metadata": {
        "id": "XXzOJ1CgEtbH"
      },
      "outputs": [],
      "source": [
        "X_train, X_test, y_train, y_test = train_test_split(X, Y, test_size=0.3, random_state=32)"
      ]
    },
    {
      "cell_type": "code",
      "execution_count": 37,
      "metadata": {
        "colab": {
          "base_uri": "https://localhost:8080/"
        },
        "id": "1ZRIgwhdEtYx",
        "outputId": "cf042d56-fb08-4209-ade1-0ff5c0a8a84e"
      },
      "outputs": [
        {
          "name": "stdout",
          "output_type": "stream",
          "text": [
            "Epoch 1/100\n"
          ]
        },
        {
          "name": "stdout",
          "output_type": "stream",
          "text": [
            "\u001b[1m44/44\u001b[0m \u001b[32m━━━━━━━━━━━━━━━━━━━━\u001b[0m\u001b[37m\u001b[0m \u001b[1m3s\u001b[0m 30ms/step - accuracy: 0.4736 - loss: 0.6946 - val_accuracy: 0.5400 - val_loss: 0.6891\n",
            "Epoch 2/100\n",
            "\u001b[1m44/44\u001b[0m \u001b[32m━━━━━━━━━━━━━━━━━━━━\u001b[0m\u001b[37m\u001b[0m \u001b[1m0s\u001b[0m 1ms/step - accuracy: 0.5716 - loss: 0.6898 - val_accuracy: 0.6600 - val_loss: 0.6837\n",
            "Epoch 3/100\n",
            "\u001b[1m44/44\u001b[0m \u001b[32m━━━━━━━━━━━━━━━━━━━━\u001b[0m\u001b[37m\u001b[0m \u001b[1m0s\u001b[0m 1ms/step - accuracy: 0.5757 - loss: 0.6832 - val_accuracy: 0.6567 - val_loss: 0.6792\n",
            "Epoch 4/100\n",
            "\u001b[1m44/44\u001b[0m \u001b[32m━━━━━━━━━━━━━━━━━━━━\u001b[0m\u001b[37m\u001b[0m \u001b[1m0s\u001b[0m 1ms/step - accuracy: 0.6475 - loss: 0.6773 - val_accuracy: 0.7400 - val_loss: 0.6734\n",
            "Epoch 5/100\n",
            "\u001b[1m44/44\u001b[0m \u001b[32m━━━━━━━━━━━━━━━━━━━━\u001b[0m\u001b[37m\u001b[0m \u001b[1m0s\u001b[0m 1ms/step - accuracy: 0.6503 - loss: 0.6704 - val_accuracy: 0.7067 - val_loss: 0.6683\n",
            "Epoch 6/100\n",
            "\u001b[1m44/44\u001b[0m \u001b[32m━━━━━━━━━━━━━━━━━━━━\u001b[0m\u001b[37m\u001b[0m \u001b[1m0s\u001b[0m 1ms/step - accuracy: 0.7465 - loss: 0.6580 - val_accuracy: 0.7767 - val_loss: 0.6614\n",
            "Epoch 7/100\n",
            "\u001b[1m44/44\u001b[0m \u001b[32m━━━━━━━━━━━━━━━━━━━━\u001b[0m\u001b[37m\u001b[0m \u001b[1m0s\u001b[0m 1ms/step - accuracy: 0.6977 - loss: 0.6530 - val_accuracy: 0.7333 - val_loss: 0.6554\n",
            "Epoch 8/100\n",
            "\u001b[1m44/44\u001b[0m \u001b[32m━━━━━━━━━━━━━━━━━━━━\u001b[0m\u001b[37m\u001b[0m \u001b[1m0s\u001b[0m 1ms/step - accuracy: 0.7210 - loss: 0.6463 - val_accuracy: 0.7667 - val_loss: 0.6475\n",
            "Epoch 9/100\n",
            "\u001b[1m44/44\u001b[0m \u001b[32m━━━━━━━━━━━━━━━━━━━━\u001b[0m\u001b[37m\u001b[0m \u001b[1m0s\u001b[0m 1ms/step - accuracy: 0.7293 - loss: 0.6310 - val_accuracy: 0.7667 - val_loss: 0.6365\n",
            "Epoch 10/100\n",
            "\u001b[1m44/44\u001b[0m \u001b[32m━━━━━━━━━━━━━━━━━━━━\u001b[0m\u001b[37m\u001b[0m \u001b[1m0s\u001b[0m 1ms/step - accuracy: 0.7565 - loss: 0.6262 - val_accuracy: 0.7800 - val_loss: 0.6277\n",
            "Epoch 11/100\n",
            "\u001b[1m44/44\u001b[0m \u001b[32m━━━━━━━━━━━━━━━━━━━━\u001b[0m\u001b[37m\u001b[0m \u001b[1m0s\u001b[0m 1ms/step - accuracy: 0.7464 - loss: 0.6179 - val_accuracy: 0.7833 - val_loss: 0.6169\n",
            "Epoch 12/100\n",
            "\u001b[1m44/44\u001b[0m \u001b[32m━━━━━━━━━━━━━━━━━━━━\u001b[0m\u001b[37m\u001b[0m \u001b[1m0s\u001b[0m 1ms/step - accuracy: 0.7630 - loss: 0.6042 - val_accuracy: 0.7800 - val_loss: 0.6058\n",
            "Epoch 13/100\n",
            "\u001b[1m44/44\u001b[0m \u001b[32m━━━━━━━━━━━━━━━━━━━━\u001b[0m\u001b[37m\u001b[0m \u001b[1m0s\u001b[0m 1ms/step - accuracy: 0.8332 - loss: 0.5763 - val_accuracy: 0.7767 - val_loss: 0.5925\n",
            "Epoch 14/100\n",
            "\u001b[1m44/44\u001b[0m \u001b[32m━━━━━━━━━━━━━━━━━━━━\u001b[0m\u001b[37m\u001b[0m \u001b[1m0s\u001b[0m 1ms/step - accuracy: 0.8296 - loss: 0.5605 - val_accuracy: 0.7833 - val_loss: 0.5762\n",
            "Epoch 15/100\n",
            "\u001b[1m44/44\u001b[0m \u001b[32m━━━━━━━━━━━━━━━━━━━━\u001b[0m\u001b[37m\u001b[0m \u001b[1m0s\u001b[0m 1ms/step - accuracy: 0.8228 - loss: 0.5467 - val_accuracy: 0.7867 - val_loss: 0.5626\n",
            "Epoch 16/100\n",
            "\u001b[1m44/44\u001b[0m \u001b[32m━━━━━━━━━━━━━━━━━━━━\u001b[0m\u001b[37m\u001b[0m \u001b[1m0s\u001b[0m 1ms/step - accuracy: 0.8533 - loss: 0.5212 - val_accuracy: 0.7733 - val_loss: 0.5451\n",
            "Epoch 17/100\n",
            "\u001b[1m44/44\u001b[0m \u001b[32m━━━━━━━━━━━━━━━━━━━━\u001b[0m\u001b[37m\u001b[0m \u001b[1m0s\u001b[0m 1ms/step - accuracy: 0.8667 - loss: 0.4930 - val_accuracy: 0.7767 - val_loss: 0.5301\n",
            "Epoch 18/100\n",
            "\u001b[1m44/44\u001b[0m \u001b[32m━━━━━━━━━━━━━━━━━━━━\u001b[0m\u001b[37m\u001b[0m \u001b[1m0s\u001b[0m 1ms/step - accuracy: 0.8478 - loss: 0.4792 - val_accuracy: 0.7800 - val_loss: 0.5150\n",
            "Epoch 19/100\n",
            "\u001b[1m44/44\u001b[0m \u001b[32m━━━━━━━━━━━━━━━━━━━━\u001b[0m\u001b[37m\u001b[0m \u001b[1m0s\u001b[0m 1ms/step - accuracy: 0.8490 - loss: 0.4635 - val_accuracy: 0.7833 - val_loss: 0.4998\n",
            "Epoch 20/100\n",
            "\u001b[1m44/44\u001b[0m \u001b[32m━━━━━━━━━━━━━━━━━━━━\u001b[0m\u001b[37m\u001b[0m \u001b[1m0s\u001b[0m 1ms/step - accuracy: 0.8381 - loss: 0.4504 - val_accuracy: 0.7833 - val_loss: 0.4975\n",
            "Epoch 21/100\n",
            "\u001b[1m44/44\u001b[0m \u001b[32m━━━━━━━━━━━━━━━━━━━━\u001b[0m\u001b[37m\u001b[0m \u001b[1m0s\u001b[0m 1ms/step - accuracy: 0.8742 - loss: 0.4319 - val_accuracy: 0.7733 - val_loss: 0.4795\n",
            "Epoch 22/100\n",
            "\u001b[1m44/44\u001b[0m \u001b[32m━━━━━━━━━━━━━━━━━━━━\u001b[0m\u001b[37m\u001b[0m \u001b[1m0s\u001b[0m 1ms/step - accuracy: 0.8708 - loss: 0.4130 - val_accuracy: 0.7833 - val_loss: 0.4571\n",
            "Epoch 23/100\n",
            "\u001b[1m44/44\u001b[0m \u001b[32m━━━━━━━━━━━━━━━━━━━━\u001b[0m\u001b[37m\u001b[0m \u001b[1m0s\u001b[0m 1ms/step - accuracy: 0.9015 - loss: 0.3820 - val_accuracy: 0.7833 - val_loss: 0.4611\n",
            "Epoch 24/100\n",
            "\u001b[1m44/44\u001b[0m \u001b[32m━━━━━━━━━━━━━━━━━━━━\u001b[0m\u001b[37m\u001b[0m \u001b[1m0s\u001b[0m 1ms/step - accuracy: 0.8983 - loss: 0.3705 - val_accuracy: 0.7833 - val_loss: 0.4347\n",
            "Epoch 25/100\n",
            "\u001b[1m44/44\u001b[0m \u001b[32m━━━━━━━━━━━━━━━━━━━━\u001b[0m\u001b[37m\u001b[0m \u001b[1m0s\u001b[0m 1ms/step - accuracy: 0.8936 - loss: 0.3476 - val_accuracy: 0.7833 - val_loss: 0.4230\n",
            "Epoch 26/100\n",
            "\u001b[1m44/44\u001b[0m \u001b[32m━━━━━━━━━━━━━━━━━━━━\u001b[0m\u001b[37m\u001b[0m \u001b[1m0s\u001b[0m 1ms/step - accuracy: 0.8949 - loss: 0.3350 - val_accuracy: 0.7900 - val_loss: 0.4151\n",
            "Epoch 27/100\n",
            "\u001b[1m44/44\u001b[0m \u001b[32m━━━━━━━━━━━━━━━━━━━━\u001b[0m\u001b[37m\u001b[0m \u001b[1m0s\u001b[0m 1ms/step - accuracy: 0.9240 - loss: 0.2954 - val_accuracy: 0.7767 - val_loss: 0.4187\n",
            "Epoch 28/100\n",
            "\u001b[1m44/44\u001b[0m \u001b[32m━━━━━━━━━━━━━━━━━━━━\u001b[0m\u001b[37m\u001b[0m \u001b[1m0s\u001b[0m 1ms/step - accuracy: 0.9114 - loss: 0.2977 - val_accuracy: 0.7933 - val_loss: 0.3982\n",
            "Epoch 29/100\n",
            "\u001b[1m44/44\u001b[0m \u001b[32m━━━━━━━━━━━━━━━━━━━━\u001b[0m\u001b[37m\u001b[0m \u001b[1m0s\u001b[0m 1ms/step - accuracy: 0.9100 - loss: 0.2717 - val_accuracy: 0.7900 - val_loss: 0.3954\n",
            "Epoch 30/100\n",
            "\u001b[1m44/44\u001b[0m \u001b[32m━━━━━━━━━━━━━━━━━━━━\u001b[0m\u001b[37m\u001b[0m \u001b[1m0s\u001b[0m 1ms/step - accuracy: 0.9219 - loss: 0.2579 - val_accuracy: 0.7900 - val_loss: 0.3855\n",
            "Epoch 31/100\n",
            "\u001b[1m44/44\u001b[0m \u001b[32m━━━━━━━━━━━━━━━━━━━━\u001b[0m\u001b[37m\u001b[0m \u001b[1m0s\u001b[0m 1ms/step - accuracy: 0.9379 - loss: 0.2392 - val_accuracy: 0.7933 - val_loss: 0.3799\n",
            "Epoch 32/100\n",
            "\u001b[1m44/44\u001b[0m \u001b[32m━━━━━━━━━━━━━━━━━━━━\u001b[0m\u001b[37m\u001b[0m \u001b[1m0s\u001b[0m 1ms/step - accuracy: 0.9453 - loss: 0.2353 - val_accuracy: 0.8067 - val_loss: 0.3771\n",
            "Epoch 33/100\n",
            "\u001b[1m44/44\u001b[0m \u001b[32m━━━━━━━━━━━━━━━━━━━━\u001b[0m\u001b[37m\u001b[0m \u001b[1m0s\u001b[0m 1ms/step - accuracy: 0.9494 - loss: 0.2067 - val_accuracy: 0.7900 - val_loss: 0.3711\n",
            "Epoch 34/100\n",
            "\u001b[1m44/44\u001b[0m \u001b[32m━━━━━━━━━━━━━━━━━━━━\u001b[0m\u001b[37m\u001b[0m \u001b[1m0s\u001b[0m 1ms/step - accuracy: 0.9546 - loss: 0.2072 - val_accuracy: 0.8033 - val_loss: 0.3685\n",
            "Epoch 35/100\n",
            "\u001b[1m44/44\u001b[0m \u001b[32m━━━━━━━━━━━━━━━━━━━━\u001b[0m\u001b[37m\u001b[0m \u001b[1m0s\u001b[0m 1ms/step - accuracy: 0.9594 - loss: 0.2847 - val_accuracy: 0.8033 - val_loss: 0.3663\n",
            "Epoch 36/100\n",
            "\u001b[1m44/44\u001b[0m \u001b[32m━━━━━━━━━━━━━━━━━━━━\u001b[0m\u001b[37m\u001b[0m \u001b[1m0s\u001b[0m 1ms/step - accuracy: 0.9606 - loss: 0.1868 - val_accuracy: 0.8000 - val_loss: 0.3640\n",
            "Epoch 37/100\n",
            "\u001b[1m44/44\u001b[0m \u001b[32m━━━━━━━━━━━━━━━━━━━━\u001b[0m\u001b[37m\u001b[0m \u001b[1m0s\u001b[0m 1ms/step - accuracy: 0.9509 - loss: 0.1833 - val_accuracy: 0.8033 - val_loss: 0.3765\n",
            "Epoch 38/100\n",
            "\u001b[1m44/44\u001b[0m \u001b[32m━━━━━━━━━━━━━━━━━━━━\u001b[0m\u001b[37m\u001b[0m \u001b[1m0s\u001b[0m 2ms/step - accuracy: 0.9646 - loss: 0.1703 - val_accuracy: 0.8033 - val_loss: 0.3653\n",
            "Epoch 39/100\n",
            "\u001b[1m44/44\u001b[0m \u001b[32m━━━━━━━━━━━━━━━━━━━━\u001b[0m\u001b[37m\u001b[0m \u001b[1m0s\u001b[0m 2ms/step - accuracy: 0.9641 - loss: 0.1565 - val_accuracy: 0.7967 - val_loss: 0.3607\n",
            "Epoch 40/100\n",
            "\u001b[1m44/44\u001b[0m \u001b[32m━━━━━━━━━━━━━━━━━━━━\u001b[0m\u001b[37m\u001b[0m \u001b[1m0s\u001b[0m 1ms/step - accuracy: 0.9720 - loss: 0.1473 - val_accuracy: 0.7967 - val_loss: 0.3589\n",
            "Epoch 41/100\n",
            "\u001b[1m44/44\u001b[0m \u001b[32m━━━━━━━━━━━━━━━━━━━━\u001b[0m\u001b[37m\u001b[0m \u001b[1m0s\u001b[0m 2ms/step - accuracy: 0.9701 - loss: 0.1519 - val_accuracy: 0.8100 - val_loss: 0.3639\n",
            "Epoch 42/100\n",
            "\u001b[1m44/44\u001b[0m \u001b[32m━━━━━━━━━━━━━━━━━━━━\u001b[0m\u001b[37m\u001b[0m \u001b[1m0s\u001b[0m 2ms/step - accuracy: 0.9698 - loss: 0.1418 - val_accuracy: 0.8133 - val_loss: 0.4461\n",
            "Epoch 43/100\n",
            "\u001b[1m44/44\u001b[0m \u001b[32m━━━━━━━━━━━━━━━━━━━━\u001b[0m\u001b[37m\u001b[0m \u001b[1m0s\u001b[0m 3ms/step - accuracy: 0.9788 - loss: 0.1263 - val_accuracy: 0.8167 - val_loss: 0.3545\n",
            "Epoch 44/100\n",
            "\u001b[1m44/44\u001b[0m \u001b[32m━━━━━━━━━━━━━━━━━━━━\u001b[0m\u001b[37m\u001b[0m \u001b[1m0s\u001b[0m 2ms/step - accuracy: 0.9833 - loss: 0.1240 - val_accuracy: 0.8200 - val_loss: 0.4447\n",
            "Epoch 45/100\n",
            "\u001b[1m44/44\u001b[0m \u001b[32m━━━━━━━━━━━━━━━━━━━━\u001b[0m\u001b[37m\u001b[0m \u001b[1m0s\u001b[0m 2ms/step - accuracy: 0.9715 - loss: 0.1252 - val_accuracy: 0.8167 - val_loss: 0.4833\n",
            "Epoch 46/100\n",
            "\u001b[1m44/44\u001b[0m \u001b[32m━━━━━━━━━━━━━━━━━━━━\u001b[0m\u001b[37m\u001b[0m \u001b[1m0s\u001b[0m 2ms/step - accuracy: 0.9838 - loss: 0.1145 - val_accuracy: 0.8100 - val_loss: 0.4400\n",
            "Epoch 47/100\n",
            "\u001b[1m44/44\u001b[0m \u001b[32m━━━━━━━━━━━━━━━━━━━━\u001b[0m\u001b[37m\u001b[0m \u001b[1m0s\u001b[0m 2ms/step - accuracy: 0.9958 - loss: 0.0920 - val_accuracy: 0.8133 - val_loss: 0.4371\n",
            "Epoch 48/100\n",
            "\u001b[1m44/44\u001b[0m \u001b[32m━━━━━━━━━━━━━━━━━━━━\u001b[0m\u001b[37m\u001b[0m \u001b[1m0s\u001b[0m 1ms/step - accuracy: 0.9865 - loss: 0.0983 - val_accuracy: 0.8133 - val_loss: 0.3583\n",
            "Epoch 49/100\n",
            "\u001b[1m44/44\u001b[0m \u001b[32m━━━━━━━━━━━━━━━━━━━━\u001b[0m\u001b[37m\u001b[0m \u001b[1m0s\u001b[0m 1ms/step - accuracy: 0.9901 - loss: 0.0912 - val_accuracy: 0.8100 - val_loss: 0.3598\n",
            "Epoch 50/100\n",
            "\u001b[1m44/44\u001b[0m \u001b[32m━━━━━━━━━━━━━━━━━━━━\u001b[0m\u001b[37m\u001b[0m \u001b[1m0s\u001b[0m 1ms/step - accuracy: 0.9949 - loss: 0.0901 - val_accuracy: 0.8133 - val_loss: 0.3648\n",
            "Epoch 51/100\n",
            "\u001b[1m44/44\u001b[0m \u001b[32m━━━━━━━━━━━━━━━━━━━━\u001b[0m\u001b[37m\u001b[0m \u001b[1m0s\u001b[0m 2ms/step - accuracy: 0.9935 - loss: 0.0848 - val_accuracy: 0.8100 - val_loss: 0.3615\n",
            "Epoch 52/100\n",
            "\u001b[1m44/44\u001b[0m \u001b[32m━━━━━━━━━━━━━━━━━━━━\u001b[0m\u001b[37m\u001b[0m \u001b[1m0s\u001b[0m 1ms/step - accuracy: 0.9991 - loss: 0.0800 - val_accuracy: 0.8133 - val_loss: 0.3998\n",
            "Epoch 53/100\n",
            "\u001b[1m44/44\u001b[0m \u001b[32m━━━━━━━━━━━━━━━━━━━━\u001b[0m\u001b[37m\u001b[0m \u001b[1m0s\u001b[0m 1ms/step - accuracy: 0.9983 - loss: 0.0703 - val_accuracy: 0.8133 - val_loss: 0.4380\n",
            "Epoch 54/100\n",
            "\u001b[1m44/44\u001b[0m \u001b[32m━━━━━━━━━━━━━━━━━━━━\u001b[0m\u001b[37m\u001b[0m \u001b[1m0s\u001b[0m 1ms/step - accuracy: 0.9924 - loss: 0.0747 - val_accuracy: 0.8233 - val_loss: 0.5829\n",
            "Epoch 55/100\n",
            "\u001b[1m44/44\u001b[0m \u001b[32m━━━━━━━━━━━━━━━━━━━━\u001b[0m\u001b[37m\u001b[0m \u001b[1m0s\u001b[0m 1ms/step - accuracy: 0.9857 - loss: 0.0771 - val_accuracy: 0.8133 - val_loss: 0.4367\n",
            "Epoch 56/100\n",
            "\u001b[1m44/44\u001b[0m \u001b[32m━━━━━━━━━━━━━━━━━━━━\u001b[0m\u001b[37m\u001b[0m \u001b[1m0s\u001b[0m 1ms/step - accuracy: 1.0000 - loss: 0.0668 - val_accuracy: 0.8167 - val_loss: 0.4393\n",
            "Epoch 57/100\n",
            "\u001b[1m44/44\u001b[0m \u001b[32m━━━━━━━━━━━━━━━━━━━━\u001b[0m\u001b[37m\u001b[0m \u001b[1m0s\u001b[0m 1ms/step - accuracy: 0.9993 - loss: 0.0575 - val_accuracy: 0.8167 - val_loss: 0.4399\n",
            "Epoch 58/100\n",
            "\u001b[1m44/44\u001b[0m \u001b[32m━━━━━━━━━━━━━━━━━━━━\u001b[0m\u001b[37m\u001b[0m \u001b[1m0s\u001b[0m 1ms/step - accuracy: 0.9987 - loss: 0.0519 - val_accuracy: 0.8133 - val_loss: 0.5213\n",
            "Epoch 59/100\n",
            "\u001b[1m44/44\u001b[0m \u001b[32m━━━━━━━━━━━━━━━━━━━━\u001b[0m\u001b[37m\u001b[0m \u001b[1m0s\u001b[0m 1ms/step - accuracy: 0.9997 - loss: 0.0512 - val_accuracy: 0.8133 - val_loss: 0.5225\n",
            "Epoch 60/100\n",
            "\u001b[1m44/44\u001b[0m \u001b[32m━━━━━━━━━━━━━━━━━━━━\u001b[0m\u001b[37m\u001b[0m \u001b[1m0s\u001b[0m 1ms/step - accuracy: 0.9974 - loss: 0.0528 - val_accuracy: 0.8167 - val_loss: 0.4451\n",
            "Epoch 61/100\n",
            "\u001b[1m44/44\u001b[0m \u001b[32m━━━━━━━━━━━━━━━━━━━━\u001b[0m\u001b[37m\u001b[0m \u001b[1m0s\u001b[0m 1ms/step - accuracy: 0.9984 - loss: 0.0511 - val_accuracy: 0.8133 - val_loss: 0.4867\n",
            "Epoch 62/100\n",
            "\u001b[1m44/44\u001b[0m \u001b[32m━━━━━━━━━━━━━━━━━━━━\u001b[0m\u001b[37m\u001b[0m \u001b[1m0s\u001b[0m 2ms/step - accuracy: 1.0000 - loss: 0.0410 - val_accuracy: 0.8133 - val_loss: 0.5271\n",
            "Epoch 63/100\n",
            "\u001b[1m44/44\u001b[0m \u001b[32m━━━━━━━━━━━━━━━━━━━━\u001b[0m\u001b[37m\u001b[0m \u001b[1m0s\u001b[0m 2ms/step - accuracy: 1.0000 - loss: 0.0408 - val_accuracy: 0.8133 - val_loss: 0.5273\n",
            "Epoch 64/100\n",
            "\u001b[1m44/44\u001b[0m \u001b[32m━━━━━━━━━━━━━━━━━━━━\u001b[0m\u001b[37m\u001b[0m \u001b[1m0s\u001b[0m 2ms/step - accuracy: 0.9980 - loss: 0.0507 - val_accuracy: 0.8133 - val_loss: 0.5274\n",
            "Epoch 65/100\n",
            "\u001b[1m44/44\u001b[0m \u001b[32m━━━━━━━━━━━━━━━━━━━━\u001b[0m\u001b[37m\u001b[0m \u001b[1m0s\u001b[0m 2ms/step - accuracy: 1.0000 - loss: 0.0374 - val_accuracy: 0.8167 - val_loss: 0.5734\n",
            "Epoch 66/100\n",
            "\u001b[1m44/44\u001b[0m \u001b[32m━━━━━━━━━━━━━━━━━━━━\u001b[0m\u001b[37m\u001b[0m \u001b[1m0s\u001b[0m 1ms/step - accuracy: 0.9997 - loss: 0.0320 - val_accuracy: 0.8133 - val_loss: 0.4542\n",
            "Epoch 67/100\n",
            "\u001b[1m44/44\u001b[0m \u001b[32m━━━━━━━━━━━━━━━━━━━━\u001b[0m\u001b[37m\u001b[0m \u001b[1m0s\u001b[0m 1ms/step - accuracy: 0.9998 - loss: 0.0414 - val_accuracy: 0.8100 - val_loss: 0.5274\n",
            "Epoch 68/100\n",
            "\u001b[1m44/44\u001b[0m \u001b[32m━━━━━━━━━━━━━━━━━━━━\u001b[0m\u001b[37m\u001b[0m \u001b[1m0s\u001b[0m 1ms/step - accuracy: 1.0000 - loss: 0.0367 - val_accuracy: 0.8133 - val_loss: 0.5298\n",
            "Epoch 69/100\n",
            "\u001b[1m44/44\u001b[0m \u001b[32m━━━━━━━━━━━━━━━━━━━━\u001b[0m\u001b[37m\u001b[0m \u001b[1m0s\u001b[0m 1ms/step - accuracy: 1.0000 - loss: 0.0341 - val_accuracy: 0.8133 - val_loss: 0.5719\n",
            "Epoch 70/100\n",
            "\u001b[1m44/44\u001b[0m \u001b[32m━━━━━━━━━━━━━━━━━━━━\u001b[0m\u001b[37m\u001b[0m \u001b[1m0s\u001b[0m 1ms/step - accuracy: 0.9992 - loss: 0.0352 - val_accuracy: 0.8133 - val_loss: 0.4930\n",
            "Epoch 71/100\n",
            "\u001b[1m44/44\u001b[0m \u001b[32m━━━━━━━━━━━━━━━━━━━━\u001b[0m\u001b[37m\u001b[0m \u001b[1m0s\u001b[0m 1ms/step - accuracy: 1.0000 - loss: 0.0285 - val_accuracy: 0.8133 - val_loss: 0.4962\n",
            "Epoch 72/100\n",
            "\u001b[1m44/44\u001b[0m \u001b[32m━━━━━━━━━━━━━━━━━━━━\u001b[0m\u001b[37m\u001b[0m \u001b[1m0s\u001b[0m 1ms/step - accuracy: 0.9967 - loss: 0.0294 - val_accuracy: 0.8133 - val_loss: 0.5329\n",
            "Epoch 73/100\n",
            "\u001b[1m44/44\u001b[0m \u001b[32m━━━━━━━━━━━━━━━━━━━━\u001b[0m\u001b[37m\u001b[0m \u001b[1m0s\u001b[0m 1ms/step - accuracy: 1.0000 - loss: 0.0239 - val_accuracy: 0.8100 - val_loss: 0.5338\n",
            "Epoch 74/100\n",
            "\u001b[1m44/44\u001b[0m \u001b[32m━━━━━━━━━━━━━━━━━━━━\u001b[0m\u001b[37m\u001b[0m \u001b[1m0s\u001b[0m 1ms/step - accuracy: 1.0000 - loss: 0.0308 - val_accuracy: 0.8067 - val_loss: 0.4663\n",
            "Epoch 75/100\n",
            "\u001b[1m44/44\u001b[0m \u001b[32m━━━━━━━━━━━━━━━━━━━━\u001b[0m\u001b[37m\u001b[0m \u001b[1m0s\u001b[0m 1ms/step - accuracy: 1.0000 - loss: 0.0292 - val_accuracy: 0.8133 - val_loss: 0.5027\n",
            "Epoch 76/100\n",
            "\u001b[1m44/44\u001b[0m \u001b[32m━━━━━━━━━━━━━━━━━━━━\u001b[0m\u001b[37m\u001b[0m \u001b[1m0s\u001b[0m 1ms/step - accuracy: 0.9993 - loss: 0.0266 - val_accuracy: 0.8100 - val_loss: 0.5377\n",
            "Epoch 77/100\n",
            "\u001b[1m44/44\u001b[0m \u001b[32m━━━━━━━━━━━━━━━━━━━━\u001b[0m\u001b[37m\u001b[0m \u001b[1m0s\u001b[0m 1ms/step - accuracy: 0.9999 - loss: 0.0206 - val_accuracy: 0.8100 - val_loss: 0.5400\n",
            "Epoch 78/100\n",
            "\u001b[1m44/44\u001b[0m \u001b[32m━━━━━━━━━━━━━━━━━━━━\u001b[0m\u001b[37m\u001b[0m \u001b[1m0s\u001b[0m 1ms/step - accuracy: 0.9994 - loss: 0.0223 - val_accuracy: 0.8067 - val_loss: 0.5810\n",
            "Epoch 79/100\n",
            "\u001b[1m44/44\u001b[0m \u001b[32m━━━━━━━━━━━━━━━━━━━━\u001b[0m\u001b[37m\u001b[0m \u001b[1m0s\u001b[0m 1ms/step - accuracy: 1.0000 - loss: 0.0258 - val_accuracy: 0.8100 - val_loss: 0.5423\n",
            "Epoch 80/100\n",
            "\u001b[1m44/44\u001b[0m \u001b[32m━━━━━━━━━━━━━━━━━━━━\u001b[0m\u001b[37m\u001b[0m \u001b[1m0s\u001b[0m 1ms/step - accuracy: 1.0000 - loss: 0.0173 - val_accuracy: 0.8133 - val_loss: 0.5460\n",
            "Epoch 81/100\n",
            "\u001b[1m44/44\u001b[0m \u001b[32m━━━━━━━━━━━━━━━━━━━━\u001b[0m\u001b[37m\u001b[0m \u001b[1m0s\u001b[0m 2ms/step - accuracy: 1.0000 - loss: 0.0212 - val_accuracy: 0.8000 - val_loss: 0.5938\n",
            "Epoch 82/100\n",
            "\u001b[1m44/44\u001b[0m \u001b[32m━━━━━━━━━━━━━━━━━━━━\u001b[0m\u001b[37m\u001b[0m \u001b[1m0s\u001b[0m 1ms/step - accuracy: 1.0000 - loss: 0.0224 - val_accuracy: 0.8033 - val_loss: 0.6325\n",
            "Epoch 83/100\n",
            "\u001b[1m44/44\u001b[0m \u001b[32m━━━━━━━━━━━━━━━━━━━━\u001b[0m\u001b[37m\u001b[0m \u001b[1m0s\u001b[0m 2ms/step - accuracy: 1.0000 - loss: 0.0219 - val_accuracy: 0.8100 - val_loss: 0.5871\n",
            "Epoch 84/100\n",
            "\u001b[1m44/44\u001b[0m \u001b[32m━━━━━━━━━━━━━━━━━━━━\u001b[0m\u001b[37m\u001b[0m \u001b[1m0s\u001b[0m 1ms/step - accuracy: 1.0000 - loss: 0.0164 - val_accuracy: 0.8100 - val_loss: 0.5888\n",
            "Epoch 85/100\n",
            "\u001b[1m44/44\u001b[0m \u001b[32m━━━━━━━━━━━━━━━━━━━━\u001b[0m\u001b[37m\u001b[0m \u001b[1m0s\u001b[0m 1ms/step - accuracy: 1.0000 - loss: 0.0188 - val_accuracy: 0.8100 - val_loss: 0.5550\n",
            "Epoch 86/100\n",
            "\u001b[1m44/44\u001b[0m \u001b[32m━━━━━━━━━━━━━━━━━━━━\u001b[0m\u001b[37m\u001b[0m \u001b[1m0s\u001b[0m 1ms/step - accuracy: 1.0000 - loss: 0.0163 - val_accuracy: 0.8100 - val_loss: 0.6131\n",
            "Epoch 87/100\n",
            "\u001b[1m44/44\u001b[0m \u001b[32m━━━━━━━━━━━━━━━━━━━━\u001b[0m\u001b[37m\u001b[0m \u001b[1m0s\u001b[0m 1ms/step - accuracy: 1.0000 - loss: 0.0110 - val_accuracy: 0.8133 - val_loss: 0.5632\n",
            "Epoch 88/100\n",
            "\u001b[1m44/44\u001b[0m \u001b[32m━━━━━━━━━━━━━━━━━━━━\u001b[0m\u001b[37m\u001b[0m \u001b[1m0s\u001b[0m 2ms/step - accuracy: 1.0000 - loss: 0.0173 - val_accuracy: 0.8067 - val_loss: 0.6612\n",
            "Epoch 89/100\n",
            "\u001b[1m44/44\u001b[0m \u001b[32m━━━━━━━━━━━━━━━━━━━━\u001b[0m\u001b[37m\u001b[0m \u001b[1m0s\u001b[0m 1ms/step - accuracy: 1.0000 - loss: 0.0177 - val_accuracy: 0.8133 - val_loss: 0.5700\n",
            "Epoch 90/100\n",
            "\u001b[1m44/44\u001b[0m \u001b[32m━━━━━━━━━━━━━━━━━━━━\u001b[0m\u001b[37m\u001b[0m \u001b[1m0s\u001b[0m 1ms/step - accuracy: 1.0000 - loss: 0.0155 - val_accuracy: 0.8100 - val_loss: 0.6019\n",
            "Epoch 91/100\n",
            "\u001b[1m44/44\u001b[0m \u001b[32m━━━━━━━━━━━━━━━━━━━━\u001b[0m\u001b[37m\u001b[0m \u001b[1m0s\u001b[0m 1ms/step - accuracy: 1.0000 - loss: 0.0176 - val_accuracy: 0.8067 - val_loss: 0.6625\n",
            "Epoch 92/100\n",
            "\u001b[1m44/44\u001b[0m \u001b[32m━━━━━━━━━━━━━━━━━━━━\u001b[0m\u001b[37m\u001b[0m \u001b[1m0s\u001b[0m 1ms/step - accuracy: 1.0000 - loss: 0.0181 - val_accuracy: 0.8100 - val_loss: 0.6670\n",
            "Epoch 93/100\n",
            "\u001b[1m44/44\u001b[0m \u001b[32m━━━━━━━━━━━━━━━━━━━━\u001b[0m\u001b[37m\u001b[0m \u001b[1m0s\u001b[0m 1ms/step - accuracy: 1.0000 - loss: 0.0149 - val_accuracy: 0.8100 - val_loss: 0.5797\n",
            "Epoch 94/100\n",
            "\u001b[1m44/44\u001b[0m \u001b[32m━━━━━━━━━━━━━━━━━━━━\u001b[0m\u001b[37m\u001b[0m \u001b[1m0s\u001b[0m 2ms/step - accuracy: 1.0000 - loss: 0.0144 - val_accuracy: 0.8100 - val_loss: 0.6688\n",
            "Epoch 95/100\n",
            "\u001b[1m44/44\u001b[0m \u001b[32m━━━━━━━━━━━━━━━━━━━━\u001b[0m\u001b[37m\u001b[0m \u001b[1m0s\u001b[0m 2ms/step - accuracy: 1.0000 - loss: 0.0096 - val_accuracy: 0.8133 - val_loss: 0.6591\n",
            "Epoch 96/100\n",
            "\u001b[1m44/44\u001b[0m \u001b[32m━━━━━━━━━━━━━━━━━━━━\u001b[0m\u001b[37m\u001b[0m \u001b[1m0s\u001b[0m 2ms/step - accuracy: 1.0000 - loss: 0.0122 - val_accuracy: 0.8100 - val_loss: 0.6714\n",
            "Epoch 97/100\n",
            "\u001b[1m44/44\u001b[0m \u001b[32m━━━━━━━━━━━━━━━━━━━━\u001b[0m\u001b[37m\u001b[0m \u001b[1m0s\u001b[0m 2ms/step - accuracy: 1.0000 - loss: 0.0116 - val_accuracy: 0.8100 - val_loss: 0.6760\n",
            "Epoch 98/100\n",
            "\u001b[1m44/44\u001b[0m \u001b[32m━━━━━━━━━━━━━━━━━━━━\u001b[0m\u001b[37m\u001b[0m \u001b[1m0s\u001b[0m 1ms/step - accuracy: 1.0000 - loss: 0.0116 - val_accuracy: 0.8067 - val_loss: 0.6693\n",
            "Epoch 99/100\n",
            "\u001b[1m44/44\u001b[0m \u001b[32m━━━━━━━━━━━━━━━━━━━━\u001b[0m\u001b[37m\u001b[0m \u001b[1m0s\u001b[0m 1ms/step - accuracy: 1.0000 - loss: 0.0117 - val_accuracy: 0.8067 - val_loss: 0.6689\n",
            "Epoch 100/100\n",
            "\u001b[1m44/44\u001b[0m \u001b[32m━━━━━━━━━━━━━━━━━━━━\u001b[0m\u001b[37m\u001b[0m \u001b[1m0s\u001b[0m 2ms/step - accuracy: 1.0000 - loss: 0.0149 - val_accuracy: 0.8067 - val_loss: 0.6669\n"
          ]
        }
      ],
      "source": [
        "num_epochs=100\n",
        "loss = binary_crossentropy\n",
        "\n",
        "def custom_loss(y_true, y_pred):\n",
        "\t\treturn loss(y_true, y_pred)\n",
        "\n",
        "model = Sequential()\n",
        "model.add(Input(shape=(X.shape[1],)))\n",
        "model.add(Dense(units=64, activation='tanh'))\n",
        "model.add(Dropout(0.7))\n",
        "model.add(Dense(units=1, activation='hard_sigmoid')) # for computation efficiency\n",
        "model.compile(loss=custom_loss, metrics=['accuracy'],\n",
        "              optimizer=SGD(learning_rate=0.01,\n",
        "                            momentum=0.9, nesterov=True))\n",
        "history=model.fit(np.array(X_train), y_train, \n",
        "                  epochs=num_epochs, \n",
        "                  batch_size=16,\n",
        "                  validation_data=(np.array(X_test), y_test),\n",
        "                  verbose=1)"
      ]
    },
    {
      "cell_type": "markdown",
      "metadata": {},
      "source": [
        "## Let's save the model for good measure!"
      ]
    },
    {
      "cell_type": "code",
      "execution_count": 38,
      "metadata": {},
      "outputs": [],
      "source": [
        "# I gitignored it because its a big file and I see no point in it, I might point it to a personal domain and store all the .keras files if you want/need? Lmk!\n",
        "save_model(model=model, filepath=\"KerasResources/.keras\")"
      ]
    },
    {
      "cell_type": "markdown",
      "metadata": {
        "id": "12CMUFtWyr3l"
      },
      "source": [
        "## Show the learning curves\n",
        "\n",
        "1. Loss vs Epoch (training and validation)\n",
        "2. Accuracy vs Epoch (training and validation)"
      ]
    },
    {
      "cell_type": "code",
      "execution_count": 39,
      "metadata": {
        "colab": {
          "base_uri": "https://localhost:8080/",
          "height": 299
        },
        "id": "hWR8wgNPHfQd",
        "outputId": "15a4c77f-b0cd-4a96-f9a0-15d024d69bc5"
      },
      "outputs": [
        {
          "data": {
            "image/png": "[encoded data removed]",
            "text/plain": [
              "<Figure size 640x480 with 1 Axes>"
            ]
          },
          "metadata": {},
          "output_type": "display_data"
        }
      ],
      "source": [
        "def plot_graphs(H, metric):\n",
        "  plt.style.use(\"ggplot\")\n",
        "  plt.figure()\n",
        "  plt.plot(np.arange(0, num_epochs), H.history[\"loss\"], label=\"train_loss\")\n",
        "  plt.plot(np.arange(0, num_epochs), H.history[\"val_loss\"], label=\"val_loss\")\n",
        "  plt.plot(np.arange(0, num_epochs), H.history[\"accuracy\"], label=\"train_acc\")\n",
        "  plt.plot(np.arange(0, num_epochs), H.history[\"val_accuracy\"], label=\"val_acc\")\n",
        "  plt.title(\"Training Loss and Accuracy\")\n",
        "  plt.xlabel(\"Epoch #\" )\n",
        "  plt.ylabel(\"Loss/Accuracy\" )\n",
        "  plt.legend()\n",
        "  plt.savefig(\"./KerasResources/model history.png\")\n",
        "  plt.show( )\n",
        "plot_graphs(history,'acc')"
      ]
    },
    {
      "cell_type": "markdown",
      "metadata": {
        "id": "cd2vmw7rgibM"
      },
      "source": [
        "## Predicting with a loaded Model!\n",
        "\n",
        "To evaluate the performance of our model on the test set (`X_test`), we can use the `predict()` method of the model. Here's the code to predict the model on `X_test`:"
      ]
    },
    {
      "cell_type": "code",
      "execution_count": 48,
      "metadata": {},
      "outputs": [],
      "source": [
        "lm = load_model(\"KerasResources/.keras\", compile=False, custom_objects={'custom_loss': custom_loss})"
      ]
    },
    {
      "cell_type": "code",
      "execution_count": 49,
      "metadata": {
        "id": "19OkYT09Kq6z"
      },
      "outputs": [
        {
          "name": "stdout",
          "output_type": "stream",
          "text": [
            "\u001b[1m10/10\u001b[0m \u001b[32m━━━━━━━━━━━━━━━━━━━━\u001b[0m\u001b[37m\u001b[0m \u001b[1m0s\u001b[0m 1ms/step \n"
          ]
        }
      ],
      "source": [
        "preds = model.predict(X_test)"
      ]
    },
    {
      "cell_type": "code",
      "execution_count": 50,
      "metadata": {
        "id": "KboqsFfsLLyl"
      },
      "outputs": [],
      "source": [
        "preds=[round(each[0]) for each in preds]\n",
        "y_test_cm= [each for each in y_test]"
      ]
    },
    {
      "cell_type": "markdown",
      "metadata": {
        "id": "SeHKnMY7zB6I"
      },
      "source": [
        "## Confusion Matrix analysis "
      ]
    },
    {
      "cell_type": "code",
      "execution_count": 51,
      "metadata": {
        "colab": {
          "base_uri": "https://localhost:8080/",
          "height": 112
        },
        "id": "SFHAD9iEJ5Gs",
        "outputId": "bac53bf7-4289-45d7-b46c-808c67696083"
      },
      "outputs": [
        {
          "data": {
            "text/html": [
              "<div>\n",
              "<style scoped>\n",
              "    .dataframe tbody tr th:only-of-type {\n",
              "        vertical-align: middle;\n",
              "    }\n",
              "\n",
              "    .dataframe tbody tr th {\n",
              "        vertical-align: top;\n",
              "    }\n",
              "\n",
              "    .dataframe thead th {\n",
              "        text-align: right;\n",
              "    }\n",
              "</style>\n",
              "<table border=\"1\" class=\"dataframe\">\n",
              "  <thead>\n",
              "    <tr style=\"text-align: right;\">\n",
              "      <th></th>\n",
              "      <th>Negative</th>\n",
              "      <th>Positive</th>\n",
              "    </tr>\n",
              "  </thead>\n",
              "  <tbody>\n",
              "    <tr>\n",
              "      <th>Negative</th>\n",
              "      <td>130</td>\n",
              "      <td>25</td>\n",
              "    </tr>\n",
              "    <tr>\n",
              "      <th>Positive</th>\n",
              "      <td>33</td>\n",
              "      <td>112</td>\n",
              "    </tr>\n",
              "  </tbody>\n",
              "</table>\n",
              "</div>"
            ],
            "text/plain": [
              "          Negative  Positive\n",
              "Negative       130        25\n",
              "Positive        33       112"
            ]
          },
          "execution_count": 51,
          "metadata": {},
          "output_type": "execute_result"
        }
      ],
      "source": [
        "cm = confusion_matrix(y_true=y_test_cm, y_pred=preds)\n",
        "df_cm = pd.DataFrame(data=cm, index=['Negative', 'Positive'], columns=['Negative', 'Positive'])\n",
        "df_cm.head()"
      ]
    },
    {
      "cell_type": "markdown",
      "metadata": {
        "id": "Dkx1wPfp0Hez"
      },
      "source": [
        "## Classification Report analysis"
      ]
    },
    {
      "cell_type": "code",
      "execution_count": 52,
      "metadata": {
        "colab": {
          "base_uri": "https://localhost:8080/"
        },
        "id": "lJmWnZXoMBiS",
        "outputId": "58d17bed-a15b-41ed-ec94-4bdcc253c9ca"
      },
      "outputs": [
        {
          "name": "stdout",
          "output_type": "stream",
          "text": [
            "              precision    recall  f1-score   support\n",
            "\n",
            "           0       0.80      0.84      0.82       155\n",
            "           1       0.82      0.77      0.79       145\n",
            "\n",
            "    accuracy                           0.81       300\n",
            "   macro avg       0.81      0.81      0.81       300\n",
            "weighted avg       0.81      0.81      0.81       300\n",
            "\n"
          ]
        }
      ],
      "source": [
        "print(classification_report(y_true=y_test_cm, y_pred=preds))"
      ]
    },
    {
      "cell_type": "markdown",
      "metadata": {},
      "source": [
        "### Make Prediction On New Text Reviews\n",
        "\n",
        "To predict whether the following text reviews are positive or negative and provide the probability in %, you can use the `predict_results()` function. Here's the code:"
      ]
    },
    {
      "cell_type": "code",
      "execution_count": 56,
      "metadata": {},
      "outputs": [],
      "source": [
        "newPositiveText='I think this movie is eh honestly.'\n",
        "newNegativeText='This show is the worst show in the century. Oh my god it was TERRIBLE'\n"
      ]
    },
    {
      "cell_type": "code",
      "execution_count": 57,
      "metadata": {},
      "outputs": [
        {
          "name": "stdout",
          "output_type": "stream",
          "text": [
            "\u001b[1m1/1\u001b[0m \u001b[32m━━━━━━━━━━━━━━━━━━━━\u001b[0m\u001b[37m\u001b[0m \u001b[1m0s\u001b[0m 12ms/step\n"
          ]
        },
        {
          "name": "stdout",
          "output_type": "stream",
          "text": [
            "'I think this movie is eh honestly.'\n",
            "Prediction: Positive 80.11%\n",
            "\u001b[1m1/1\u001b[0m \u001b[32m━━━━━━━━━━━━━━━━━━━━\u001b[0m\u001b[37m\u001b[0m \u001b[1m0s\u001b[0m 15ms/step\n",
            "'This show is the worst show in the century. Oh my god it was TERRIBLE'\n",
            "Prediction: Negative 0.00%\n"
          ]
        }
      ],
      "source": [
        "def predict_results(text):\n",
        "  pred=model.predict(te.transform([text]))\n",
        "  if round(pred[0][0]) ==1:\n",
        "    print(\"'{}'\".format(text))\n",
        "    print('Prediction: Positive {:.2%}'.format(pred[0][0]) )\n",
        "  else:\n",
        "    print(\"'{}'\".format(text))\n",
        "    print('Prediction: Negative {:.2%}'.format(pred[0][0]) )\n",
        "predict_results(newPositiveText)\n",
        "predict_results(newNegativeText)"
      ]
    },
    {
      "cell_type": "code",
      "execution_count": null,
      "metadata": {},
      "outputs": [],
      "source": []
    }
  ],
  "metadata": {
    "colab": {
      "collapsed_sections": [],
      "name": "STUDENT_MockTest.ipynb",
      "provenance": [],
      "toc_visible": true
    },
    "kernelspec": {
      "display_name": "Python 3",
      "name": "python3"
    },
    "language_info": {
      "codemirror_mode": {
        "name": "ipython",
        "version": 3
      },
      "file_extension": ".py",
      "mimetype": "text/x-python",
      "name": "python",
      "nbconvert_exporter": "python",
      "pygments_lexer": "ipython3",
      "version": "3.11.5"
    }
  },
  "nbformat": 4,
  "nbformat_minor": 0
}
