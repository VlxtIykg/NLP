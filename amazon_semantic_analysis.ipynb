{
  "cells": [
    {
      "cell_type": "markdown",
      "metadata": {},
      "source": [
        "## Gotta import stuff duh"
      ]
    },
    {
      "cell_type": "code",
      "execution_count": 1,
      "metadata": {
        "id": "n2evB6SX4ZZ5"
      },
      "outputs": [
        {
          "name": "stderr",
          "output_type": "stream",
          "text": [
            "2023-12-04 07:48:17.075325: I tensorflow/core/platform/cpu_feature_guard.cc:182] This TensorFlow binary is optimized to use available CPU instructions in performance-critical operations.\n",
            "To enable the following instructions: AVX2 FMA, in other operations, rebuild TensorFlow with the appropriate compiler flags.\n",
            "ic| tf.config.list_physical_devices(\"GPU\"): [PhysicalDevice(name='/physical_device:GPU:0', device_type='GPU')]\n"
          ]
        }
      ],
      "source": [
        "from icecream import ic\n",
        "from keras.layers import Dense, Dropout, Input \n",
        "from keras.losses import binary_crossentropy\n",
        "from keras.models import load_model, Sequential, save_model # tba later  # noqa: F401\n",
        "from keras.optimizers import SGD\n",
        "\n",
        "import matplotlib.pyplot as plt\n",
        "from numpy import ndarray\n",
        "import numpy as np\n",
        "\n",
        "import pandas as pd\n",
        "import re\n",
        "\n",
        "from sklearn.feature_extraction.text import TfidfVectorizer\n",
        "from sklearn.metrics import classification_report\n",
        "from sklearn.metrics import confusion_matrix\n",
        "from sklearn.model_selection import train_test_split\n",
        "import tensorflow as tf\n",
        "\n",
        "ic(tf.config.list_physical_devices(\"GPU\"))\n",
        "pd.set_option('display.max_colwidth', 200)"
      ]
    },
    {
      "cell_type": "markdown",
      "metadata": {
        "id": "WuS6u41w712c"
      },
      "source": [
        "## Loading and Preparing the Dataset\n",
        "\n",
        "1. Load the dataset and setting the columns names to 'Reviews' and 'Sentiment'."
      ]
    },
    {
      "cell_type": "code",
      "execution_count": 2,
      "metadata": {
        "id": "v-pHgv-C7rEY"
      },
      "outputs": [],
      "source": [
        "COLUMN_NAMES=['Reviews','Sentiment']\n",
        "amazon_reviews = pd.read_csv(\"./amazon_cells_labelled.csv\")\n",
        "amazon_reviews.columns = COLUMN_NAMES"
      ]
    },
    {
      "cell_type": "markdown",
      "metadata": {
        "id": "e1C8YyUM9Qxa"
      },
      "source": [
        "## Data representation"
      ]
    },
    {
      "cell_type": "code",
      "execution_count": 3,
      "metadata": {
        "colab": {
          "base_uri": "https://localhost:8080/",
          "height": 424
        },
        "id": "_cbdAJQ188Nm",
        "outputId": "176fb896-92d7-4191-a8c4-7ad112b9a36b"
      },
      "outputs": [
        {
          "data": {
            "text/html": [
              "<div>\n",
              "<style scoped>\n",
              "    .dataframe tbody tr th:only-of-type {\n",
              "        vertical-align: middle;\n",
              "    }\n",
              "\n",
              "    .dataframe tbody tr th {\n",
              "        vertical-align: top;\n",
              "    }\n",
              "\n",
              "    .dataframe thead th {\n",
              "        text-align: right;\n",
              "    }\n",
              "</style>\n",
              "<table border=\"1\" class=\"dataframe\">\n",
              "  <thead>\n",
              "    <tr style=\"text-align: right;\">\n",
              "      <th></th>\n",
              "      <th>Reviews</th>\n",
              "      <th>Sentiment</th>\n",
              "    </tr>\n",
              "  </thead>\n",
              "  <tbody>\n",
              "    <tr>\n",
              "      <th>0</th>\n",
              "      <td>So there is no way for me to plug it in here in the US unless I go by a converter.</td>\n",
              "      <td>0</td>\n",
              "    </tr>\n",
              "    <tr>\n",
              "      <th>1</th>\n",
              "      <td>Good case, Excellent value.</td>\n",
              "      <td>1</td>\n",
              "    </tr>\n",
              "    <tr>\n",
              "      <th>2</th>\n",
              "      <td>Great for the jawbone.</td>\n",
              "      <td>1</td>\n",
              "    </tr>\n",
              "    <tr>\n",
              "      <th>3</th>\n",
              "      <td>Tied to charger for conversations lasting more than 45 minutes.MAJOR PROBLEMS!!</td>\n",
              "      <td>0</td>\n",
              "    </tr>\n",
              "    <tr>\n",
              "      <th>4</th>\n",
              "      <td>The mic is great.</td>\n",
              "      <td>1</td>\n",
              "    </tr>\n",
              "    <tr>\n",
              "      <th>5</th>\n",
              "      <td>I have to jiggle the plug to get it to line up right to get decent volume.</td>\n",
              "      <td>0</td>\n",
              "    </tr>\n",
              "    <tr>\n",
              "      <th>6</th>\n",
              "      <td>If you have several dozen or several hundred contacts, then imagine the fun of sending each of them one by one.</td>\n",
              "      <td>0</td>\n",
              "    </tr>\n",
              "    <tr>\n",
              "      <th>7</th>\n",
              "      <td>If you are Razr owner...you must have this!</td>\n",
              "      <td>1</td>\n",
              "    </tr>\n",
              "    <tr>\n",
              "      <th>8</th>\n",
              "      <td>Needless to say, I wasted my money.</td>\n",
              "      <td>0</td>\n",
              "    </tr>\n",
              "    <tr>\n",
              "      <th>9</th>\n",
              "      <td>What a waste of money and time!.</td>\n",
              "      <td>0</td>\n",
              "    </tr>\n",
              "  </tbody>\n",
              "</table>\n",
              "</div>"
            ],
            "text/plain": [
              "                                                                                                           Reviews  \\\n",
              "0                               So there is no way for me to plug it in here in the US unless I go by a converter.   \n",
              "1                                                                                      Good case, Excellent value.   \n",
              "2                                                                                           Great for the jawbone.   \n",
              "3                                  Tied to charger for conversations lasting more than 45 minutes.MAJOR PROBLEMS!!   \n",
              "4                                                                                                The mic is great.   \n",
              "5                                       I have to jiggle the plug to get it to line up right to get decent volume.   \n",
              "6  If you have several dozen or several hundred contacts, then imagine the fun of sending each of them one by one.   \n",
              "7                                                                      If you are Razr owner...you must have this!   \n",
              "8                                                                              Needless to say, I wasted my money.   \n",
              "9                                                                                 What a waste of money and time!.   \n",
              "\n",
              "   Sentiment  \n",
              "0          0  \n",
              "1          1  \n",
              "2          1  \n",
              "3          0  \n",
              "4          1  \n",
              "5          0  \n",
              "6          0  \n",
              "7          1  \n",
              "8          0  \n",
              "9          0  "
            ]
          },
          "execution_count": 3,
          "metadata": {},
          "output_type": "execute_result"
        }
      ],
      "source": [
        "amazon_reviews.head(10)"
      ]
    },
    {
      "cell_type": "markdown",
      "metadata": {
        "id": "p1KpJpAb9mGs"
      },
      "source": [
        "## Classification visualization\n",
        "\n",
        "1. Create a pandas series object called 'sentiment_count' and assign it the sentiment count of the 'amazon_reviews' dataframe."
      ]
    },
    {
      "cell_type": "code",
      "execution_count": 4,
      "metadata": {},
      "outputs": [
        {
          "data": {
            "text/plain": [
              "Sentiment\n",
              "1    500\n",
              "0    500\n",
              "Name: count, dtype: int64"
            ]
          },
          "execution_count": 4,
          "metadata": {},
          "output_type": "execute_result"
        }
      ],
      "source": [
        "sentiment_count = amazon_reviews.Sentiment.value_counts().sort_index(ascending=False)\n",
        "sentiment_count"
      ]
    },
    {
      "cell_type": "code",
      "execution_count": 5,
      "metadata": {
        "colab": {
          "base_uri": "https://localhost:8080/",
          "height": 112
        },
        "id": "MJy61gv79l1O",
        "outputId": "177046c2-2649-44e8-c167-eb53f5ca8fcc"
      },
      "outputs": [
        {
          "data": {
            "text/html": [
              "<div>\n",
              "<style scoped>\n",
              "    .dataframe tbody tr th:only-of-type {\n",
              "        vertical-align: middle;\n",
              "    }\n",
              "\n",
              "    .dataframe tbody tr th {\n",
              "        vertical-align: top;\n",
              "    }\n",
              "\n",
              "    .dataframe thead th {\n",
              "        text-align: right;\n",
              "    }\n",
              "</style>\n",
              "<table border=\"1\" class=\"dataframe\">\n",
              "  <thead>\n",
              "    <tr style=\"text-align: right;\">\n",
              "      <th></th>\n",
              "      <th>Sentiment</th>\n",
              "    </tr>\n",
              "  </thead>\n",
              "  <tbody>\n",
              "    <tr>\n",
              "      <th>Positive</th>\n",
              "      <td>500</td>\n",
              "    </tr>\n",
              "    <tr>\n",
              "      <th>Negative</th>\n",
              "      <td>500</td>\n",
              "    </tr>\n",
              "  </tbody>\n",
              "</table>\n",
              "</div>"
            ],
            "text/plain": [
              "          Sentiment\n",
              "Positive        500\n",
              "Negative        500"
            ]
          },
          "execution_count": 5,
          "metadata": {},
          "output_type": "execute_result"
        }
      ],
      "source": [
        "(pos, neg) = sentiment_count\n",
        "sentiment_count = pd.DataFrame(data=[pos, neg], index=[\"Positive\", \"Negative\"], columns=[\"Sentiment\"])\n",
        "sentiment_count"
      ]
    },
    {
      "cell_type": "markdown",
      "metadata": {},
      "source": [
        "We can tell our classification is a balanced one"
      ]
    },
    {
      "cell_type": "markdown",
      "metadata": {},
      "source": [
        "The `clean()` function is a utility function used for text preprocessing in the notebook. It performs the following operations:\n",
        "\n",
        "- Converts the text to lowercase.\n",
        "- Replaces contractions like \"don't\" with \"do not\" and \"won't\" with \"will not\".\n",
        "- Removes non-alphanumeric characters and special characters.\n",
        "- Removes numbers from the text."
      ]
    },
    {
      "cell_type": "code",
      "execution_count": 6,
      "metadata": {},
      "outputs": [],
      "source": [
        "def clean(text):\n",
        "\ttext = text.lower()\n",
        "\ttext = re.sub(\"don't\", \"do not\", text)\n",
        "\ttext = re.sub(\"won't\", \"will not\", text)\n",
        "\ttext = re.sub(\"\\W+\", \" \", text)\n",
        "\ttext = re.sub(\"\\d+\", \" \", text)\n",
        "\ttext = text.strip()\n",
        "\treturn text"
      ]
    },
    {
      "cell_type": "markdown",
      "metadata": {},
      "source": [
        "Applying the function"
      ]
    },
    {
      "cell_type": "code",
      "execution_count": 7,
      "metadata": {},
      "outputs": [],
      "source": [
        "amazon_reviews.Reviews = amazon_reviews.Reviews.apply(clean)"
      ]
    },
    {
      "cell_type": "markdown",
      "metadata": {
        "id": "MTZ8z6XsfkQl"
      },
      "source": [
        "## Assigning variables for learning, \n",
        "X - features<br>\n",
        "Y - target"
      ]
    },
    {
      "cell_type": "code",
      "execution_count": 8,
      "metadata": {
        "id": "fFLIg4j9FUGW"
      },
      "outputs": [],
      "source": [
        "X = amazon_reviews.Reviews\n",
        "Y = amazon_reviews.Sentiment"
      ]
    },
    {
      "cell_type": "markdown",
      "metadata": {
        "id": "nLUD__Oyfv6a"
      },
      "source": [
        "## Create the vocabulary of the dataset. \n",
        "To be used for embedding/lstm layer if/when integrated"
      ]
    },
    {
      "cell_type": "code",
      "execution_count": 9,
      "metadata": {
        "id": "DZHbgXU9F_OD"
      },
      "outputs": [],
      "source": [
        "vocabulary = set()\n",
        "for data_point in X:\n",
        "\tfor data in data_point.split():\n",
        "\t\tvocabulary.add(data)\n",
        "\n",
        "vocabulary = list(vocabulary)"
      ]
    },
    {
      "cell_type": "markdown",
      "metadata": {
        "id": "4S2awDRUgBSe"
      },
      "source": [
        "## Get a grasp of what's in our vocabulary"
      ]
    },
    {
      "cell_type": "code",
      "execution_count": 10,
      "metadata": {
        "colab": {
          "base_uri": "https://localhost:8080/"
        },
        "id": "LsOHP-WDLywu",
        "outputId": "870be433-9ad8-40e3-ab79-42377f589d9f"
      },
      "outputs": [
        {
          "data": {
            "text/plain": [
              "['beautiful', 'mini', 'earpiece', 'wit', 'noises']"
            ]
          },
          "execution_count": 10,
          "metadata": {},
          "output_type": "execute_result"
        }
      ],
      "source": [
        "vocabulary[0:5]"
      ]
    },
    {
      "cell_type": "code",
      "execution_count": 11,
      "metadata": {
        "colab": {
          "base_uri": "https://localhost:8080/"
        },
        "id": "1wQn5HlpGbvW",
        "outputId": "0c2fe0e9-7f5c-4a58-8c5e-c1ac72ea2af5"
      },
      "outputs": [
        {
          "data": {
            "text/plain": [
              "1810"
            ]
          },
          "execution_count": 11,
          "metadata": {},
          "output_type": "execute_result"
        }
      ],
      "source": [
        "len(vocabulary)"
      ]
    },
    {
      "cell_type": "markdown",
      "metadata": {
        "id": "P1UQuGkbEmvq"
      },
      "source": [
        "## Create Document Vectors"
      ]
    },
    {
      "cell_type": "code",
      "execution_count": 12,
      "metadata": {
        "id": "-omvAzASEo4a"
      },
      "outputs": [],
      "source": [
        "class TextEncoder:\n",
        "\t_instance = None\n",
        "\n",
        "\tdef __new__(cls):\n",
        "\t\tif cls._instance is None:\n",
        "\t\t\tcls._instance = super().__new__(cls)\n",
        "\t\t\tcls._instance.tfidf = TfidfVectorizer()\n",
        "\t\t\tcls._instance.encoded_X = None\n",
        "\t\treturn cls._instance\n",
        "\n",
        "\tdef fit_transform(self, X):\n",
        "\t\tif self.encoded_X is None:\n",
        "\t\t\tself.encoded_X = self.tfidf.fit_transform(X).toarray()\n",
        "\t\telse:\n",
        "\t\t\traise Exception(\"Data has already been encoded. Use transform() instead.\")\n",
        "\n",
        "\tdef transform(self, X):\n",
        "\t\tif self.encoded_X is None:\n",
        "\t\t\tself.encoded_X = self.tfidf.fit_transform(X).toarray()\n",
        "\t\telse:\n",
        "\t\t\tself.encoded_X = self.tfidf.transform(self.clean(X)).toarray()\n",
        "\t\treturn self.encoded_X\n",
        "\n",
        "\tdef clean(self, text):\n",
        "\t\ttemp_ = []\n",
        "\t\tfor sentence in text:\n",
        "\t\t\ttext = sentence.lower()\n",
        "\t\t\tsentence = re.sub(\"don't\", \"do not\", text)\n",
        "\t\t\tsentence = re.sub(\"won't\", \"will not\", sentence)\n",
        "\t\t\tsentence = re.sub(\"\\W+\", \" \", sentence)\n",
        "\t\t\tsentence = re.sub(\"\\d+\", \" \", sentence)\n",
        "\t\t\tsentence = sentence.strip()\n",
        "\t\t\ttemp_.append(sentence)\n",
        "\t\treturn temp_\n",
        "\n",
        "te = TextEncoder()\n",
        "if not isinstance(X, ndarray):\n",
        "\tX = te.transform(X)"
      ]
    },
    {
      "cell_type": "code",
      "execution_count": 13,
      "metadata": {
        "colab": {
          "base_uri": "https://localhost:8080/"
        },
        "id": "FVT6ssBLGPXL",
        "outputId": "b94c2db1-29ef-4aec-a97f-a6a3a6795627"
      },
      "outputs": [
        {
          "data": {
            "text/plain": [
              "1000"
            ]
          },
          "execution_count": 13,
          "metadata": {},
          "output_type": "execute_result"
        }
      ],
      "source": [
        "len(X)"
      ]
    },
    {
      "cell_type": "code",
      "execution_count": 14,
      "metadata": {
        "id": "QJ_FmxVIEo1S"
      },
      "outputs": [],
      "source": [
        "# You can encode y using one hot encoding but i prefer binary crossentropy for binary classification\n",
        "# Y = pd.get_dummies(Y)"
      ]
    },
    {
      "cell_type": "markdown",
      "metadata": {
        "id": "v4T9sv_xEzc_"
      },
      "source": [
        "## Train-Test Split\n",
        "\n",
        "To evaluate the performance of our model, we need to split our dataset into training and testing sets. We will use a 70:30 split, where 70% of the data will be used for training and 30% for testing.\n",
        "\n",
        "Here's the code to perform the train-test split:\n"
      ]
    },
    {
      "cell_type": "code",
      "execution_count": 15,
      "metadata": {
        "id": "XXzOJ1CgEtbH"
      },
      "outputs": [],
      "source": [
        "X_train, X_test, y_train, y_test = train_test_split(X, Y, test_size=0.3, random_state=32)"
      ]
    },
    {
      "cell_type": "code",
      "execution_count": 28,
      "metadata": {
        "colab": {
          "base_uri": "https://localhost:8080/"
        },
        "id": "1ZRIgwhdEtYx",
        "outputId": "cf042d56-fb08-4209-ade1-0ff5c0a8a84e"
      },
      "outputs": [
        {
          "name": "stdout",
          "output_type": "stream",
          "text": [
            "Epoch 1/100\n",
            "\u001b[1m44/44\u001b[0m \u001b[32m━━━━━━━━━━━━━━━━━━━━\u001b[0m\u001b[37m\u001b[0m \u001b[1m2s\u001b[0m 26ms/step - accuracy: 0.5697 - loss: 0.6866 - val_accuracy: 0.5600 - val_loss: 0.6887\n",
            "Epoch 2/100\n",
            "\u001b[1m44/44\u001b[0m \u001b[32m━━━━━━━━━━━━━━━━━━━━\u001b[0m\u001b[37m\u001b[0m \u001b[1m0s\u001b[0m 1ms/step - accuracy: 0.5906 - loss: 0.6855 - val_accuracy: 0.6500 - val_loss: 0.6834\n",
            "Epoch 3/100\n",
            "\u001b[1m44/44\u001b[0m \u001b[32m━━━━━━━━━━━━━━━━━━━━\u001b[0m\u001b[37m\u001b[0m \u001b[1m0s\u001b[0m 1ms/step - accuracy: 0.6119 - loss: 0.6794 - val_accuracy: 0.5367 - val_loss: 0.6806\n",
            "Epoch 4/100\n",
            "\u001b[1m44/44\u001b[0m \u001b[32m━━━━━━━━━━━━━━━━━━━━\u001b[0m\u001b[37m\u001b[0m \u001b[1m0s\u001b[0m 1ms/step - accuracy: 0.6008 - loss: 0.6744 - val_accuracy: 0.6733 - val_loss: 0.6739\n",
            "Epoch 5/100\n",
            "\u001b[1m44/44\u001b[0m \u001b[32m━━━━━━━━━━━━━━━━━━━━\u001b[0m\u001b[37m\u001b[0m \u001b[1m0s\u001b[0m 1ms/step - accuracy: 0.6824 - loss: 0.6633 - val_accuracy: 0.7167 - val_loss: 0.6678\n",
            "Epoch 6/100\n",
            "\u001b[1m44/44\u001b[0m \u001b[32m━━━━━━━━━━━━━━━━━━━━\u001b[0m\u001b[37m\u001b[0m \u001b[1m0s\u001b[0m 1ms/step - accuracy: 0.6381 - loss: 0.6625 - val_accuracy: 0.7333 - val_loss: 0.6613\n",
            "Epoch 7/100\n",
            "\u001b[1m44/44\u001b[0m \u001b[32m━━━━━━━━━━━━━━━━━━━━\u001b[0m\u001b[37m\u001b[0m \u001b[1m0s\u001b[0m 1ms/step - accuracy: 0.6914 - loss: 0.6544 - val_accuracy: 0.7033 - val_loss: 0.6555\n",
            "Epoch 8/100\n",
            "\u001b[1m44/44\u001b[0m \u001b[32m━━━━━━━━━━━━━━━━━━━━\u001b[0m\u001b[37m\u001b[0m \u001b[1m0s\u001b[0m 1ms/step - accuracy: 0.7059 - loss: 0.6427 - val_accuracy: 0.7467 - val_loss: 0.6464\n",
            "Epoch 9/100\n",
            "\u001b[1m44/44\u001b[0m \u001b[32m━━━━━━━━━━━━━━━━━━━━\u001b[0m\u001b[37m\u001b[0m \u001b[1m0s\u001b[0m 1ms/step - accuracy: 0.7269 - loss: 0.6360 - val_accuracy: 0.7567 - val_loss: 0.6384\n",
            "Epoch 10/100\n",
            "\u001b[1m44/44\u001b[0m \u001b[32m━━━━━━━━━━━━━━━━━━━━\u001b[0m\u001b[37m\u001b[0m \u001b[1m0s\u001b[0m 1ms/step - accuracy: 0.7429 - loss: 0.6271 - val_accuracy: 0.7433 - val_loss: 0.6294\n",
            "Epoch 11/100\n",
            "\u001b[1m44/44\u001b[0m \u001b[32m━━━━━━━━━━━━━━━━━━━━\u001b[0m\u001b[37m\u001b[0m \u001b[1m0s\u001b[0m 1ms/step - accuracy: 0.7183 - loss: 0.6071 - val_accuracy: 0.7800 - val_loss: 0.6163\n",
            "Epoch 12/100\n",
            "\u001b[1m44/44\u001b[0m \u001b[32m━━━━━━━━━━━━━━━━━━━━\u001b[0m\u001b[37m\u001b[0m \u001b[1m0s\u001b[0m 1ms/step - accuracy: 0.8009 - loss: 0.5901 - val_accuracy: 0.7800 - val_loss: 0.6035\n",
            "Epoch 13/100\n",
            "\u001b[1m44/44\u001b[0m \u001b[32m━━━━━━━━━━━━━━━━━━━━\u001b[0m\u001b[37m\u001b[0m \u001b[1m0s\u001b[0m 1ms/step - accuracy: 0.7839 - loss: 0.5845 - val_accuracy: 0.7733 - val_loss: 0.5905\n",
            "Epoch 14/100\n",
            "\u001b[1m44/44\u001b[0m \u001b[32m━━━━━━━━━━━━━━━━━━━━\u001b[0m\u001b[37m\u001b[0m \u001b[1m0s\u001b[0m 1ms/step - accuracy: 0.7958 - loss: 0.5548 - val_accuracy: 0.7633 - val_loss: 0.5779\n",
            "Epoch 15/100\n",
            "\u001b[1m44/44\u001b[0m \u001b[32m━━━━━━━━━━━━━━━━━━━━\u001b[0m\u001b[37m\u001b[0m \u001b[1m0s\u001b[0m 1ms/step - accuracy: 0.8205 - loss: 0.5519 - val_accuracy: 0.7667 - val_loss: 0.5652\n",
            "Epoch 16/100\n",
            "\u001b[1m44/44\u001b[0m \u001b[32m━━━━━━━━━━━━━━━━━━━━\u001b[0m\u001b[37m\u001b[0m \u001b[1m0s\u001b[0m 1ms/step - accuracy: 0.8333 - loss: 0.5214 - val_accuracy: 0.7733 - val_loss: 0.5462\n",
            "Epoch 17/100\n",
            "\u001b[1m44/44\u001b[0m \u001b[32m━━━━━━━━━━━━━━━━━━━━\u001b[0m\u001b[37m\u001b[0m \u001b[1m0s\u001b[0m 1ms/step - accuracy: 0.8448 - loss: 0.5060 - val_accuracy: 0.7833 - val_loss: 0.5313\n",
            "Epoch 18/100\n",
            "\u001b[1m44/44\u001b[0m \u001b[32m━━━━━━━━━━━━━━━━━━━━\u001b[0m\u001b[37m\u001b[0m \u001b[1m0s\u001b[0m 1ms/step - accuracy: 0.8537 - loss: 0.4644 - val_accuracy: 0.7633 - val_loss: 0.5234\n",
            "Epoch 19/100\n",
            "\u001b[1m44/44\u001b[0m \u001b[32m━━━━━━━━━━━━━━━━━━━━\u001b[0m\u001b[37m\u001b[0m \u001b[1m0s\u001b[0m 1ms/step - accuracy: 0.8366 - loss: 0.4508 - val_accuracy: 0.7967 - val_loss: 0.5015\n",
            "Epoch 20/100\n",
            "\u001b[1m44/44\u001b[0m \u001b[32m━━━━━━━━━━━━━━━━━━━━\u001b[0m\u001b[37m\u001b[0m \u001b[1m0s\u001b[0m 1ms/step - accuracy: 0.8734 - loss: 0.4417 - val_accuracy: 0.7767 - val_loss: 0.4862\n",
            "Epoch 21/100\n",
            "\u001b[1m44/44\u001b[0m \u001b[32m━━━━━━━━━━━━━━━━━━━━\u001b[0m\u001b[37m\u001b[0m \u001b[1m0s\u001b[0m 1ms/step - accuracy: 0.8773 - loss: 0.4291 - val_accuracy: 0.7833 - val_loss: 0.4736\n",
            "Epoch 22/100\n",
            "\u001b[1m44/44\u001b[0m \u001b[32m━━━━━━━━━━━━━━━━━━━━\u001b[0m\u001b[37m\u001b[0m \u001b[1m0s\u001b[0m 1ms/step - accuracy: 0.8678 - loss: 0.3994 - val_accuracy: 0.7867 - val_loss: 0.4620\n",
            "Epoch 23/100\n",
            "\u001b[1m44/44\u001b[0m \u001b[32m━━━━━━━━━━━━━━━━━━━━\u001b[0m\u001b[37m\u001b[0m \u001b[1m0s\u001b[0m 1ms/step - accuracy: 0.8439 - loss: 0.3941 - val_accuracy: 0.7633 - val_loss: 0.4607\n",
            "Epoch 24/100\n",
            "\u001b[1m44/44\u001b[0m \u001b[32m━━━━━━━━━━━━━━━━━━━━\u001b[0m\u001b[37m\u001b[0m \u001b[1m0s\u001b[0m 1ms/step - accuracy: 0.8848 - loss: 0.3616 - val_accuracy: 0.7967 - val_loss: 0.4419\n",
            "Epoch 25/100\n",
            "\u001b[1m44/44\u001b[0m \u001b[32m━━━━━━━━━━━━━━━━━━━━\u001b[0m\u001b[37m\u001b[0m \u001b[1m0s\u001b[0m 1ms/step - accuracy: 0.8483 - loss: 0.3844 - val_accuracy: 0.7867 - val_loss: 0.4305\n",
            "Epoch 26/100\n",
            "\u001b[1m44/44\u001b[0m \u001b[32m━━━━━━━━━━━━━━━━━━━━\u001b[0m\u001b[37m\u001b[0m \u001b[1m0s\u001b[0m 1ms/step - accuracy: 0.9249 - loss: 0.3821 - val_accuracy: 0.7800 - val_loss: 0.4294\n",
            "Epoch 27/100\n",
            "\u001b[1m44/44\u001b[0m \u001b[32m━━━━━━━━━━━━━━━━━━━━\u001b[0m\u001b[37m\u001b[0m \u001b[1m0s\u001b[0m 1ms/step - accuracy: 0.8993 - loss: 0.3143 - val_accuracy: 0.7867 - val_loss: 0.4189\n",
            "Epoch 28/100\n",
            "\u001b[1m44/44\u001b[0m \u001b[32m━━━━━━━━━━━━━━━━━━━━\u001b[0m\u001b[37m\u001b[0m \u001b[1m0s\u001b[0m 1ms/step - accuracy: 0.9098 - loss: 0.3176 - val_accuracy: 0.7900 - val_loss: 0.4122\n",
            "Epoch 29/100\n",
            "\u001b[1m44/44\u001b[0m \u001b[32m━━━━━━━━━━━━━━━━━━━━\u001b[0m\u001b[37m\u001b[0m \u001b[1m0s\u001b[0m 1ms/step - accuracy: 0.9008 - loss: 0.3078 - val_accuracy: 0.7800 - val_loss: 0.4037\n",
            "Epoch 30/100\n",
            "\u001b[1m44/44\u001b[0m \u001b[32m━━━━━━━━━━━━━━━━━━━━\u001b[0m\u001b[37m\u001b[0m \u001b[1m0s\u001b[0m 1ms/step - accuracy: 0.9288 - loss: 0.3168 - val_accuracy: 0.8067 - val_loss: 0.4390\n",
            "Epoch 31/100\n",
            "\u001b[1m44/44\u001b[0m \u001b[32m━━━━━━━━━━━━━━━━━━━━\u001b[0m\u001b[37m\u001b[0m \u001b[1m0s\u001b[0m 1ms/step - accuracy: 0.9414 - loss: 0.2504 - val_accuracy: 0.7800 - val_loss: 0.4089\n",
            "Epoch 32/100\n",
            "\u001b[1m44/44\u001b[0m \u001b[32m━━━━━━━━━━━━━━━━━━━━\u001b[0m\u001b[37m\u001b[0m \u001b[1m0s\u001b[0m 1ms/step - accuracy: 0.9435 - loss: 0.2231 - val_accuracy: 0.7933 - val_loss: 0.4282\n",
            "Epoch 33/100\n",
            "\u001b[1m44/44\u001b[0m \u001b[32m━━━━━━━━━━━━━━━━━━━━\u001b[0m\u001b[37m\u001b[0m \u001b[1m0s\u001b[0m 1ms/step - accuracy: 0.9314 - loss: 0.2748 - val_accuracy: 0.7933 - val_loss: 0.3921\n",
            "Epoch 34/100\n",
            "\u001b[1m44/44\u001b[0m \u001b[32m━━━━━━━━━━━━━━━━━━━━\u001b[0m\u001b[37m\u001b[0m \u001b[1m0s\u001b[0m 1ms/step - accuracy: 0.9425 - loss: 0.2553 - val_accuracy: 0.7900 - val_loss: 0.4190\n",
            "Epoch 35/100\n",
            "\u001b[1m44/44\u001b[0m \u001b[32m━━━━━━━━━━━━━━━━━━━━\u001b[0m\u001b[37m\u001b[0m \u001b[1m0s\u001b[0m 1ms/step - accuracy: 0.9529 - loss: 0.2136 - val_accuracy: 0.7900 - val_loss: 0.3844\n",
            "Epoch 36/100\n",
            "\u001b[1m44/44\u001b[0m \u001b[32m━━━━━━━━━━━━━━━━━━━━\u001b[0m\u001b[37m\u001b[0m \u001b[1m0s\u001b[0m 1ms/step - accuracy: 0.9461 - loss: 0.2229 - val_accuracy: 0.7900 - val_loss: 0.4138\n",
            "Epoch 37/100\n",
            "\u001b[1m44/44\u001b[0m \u001b[32m━━━━━━━━━━━━━━━━━━━━\u001b[0m\u001b[37m\u001b[0m \u001b[1m0s\u001b[0m 1ms/step - accuracy: 0.9810 - loss: 0.1962 - val_accuracy: 0.7933 - val_loss: 0.4109\n",
            "Epoch 38/100\n",
            "\u001b[1m44/44\u001b[0m \u001b[32m━━━━━━━━━━━━━━━━━━━━\u001b[0m\u001b[37m\u001b[0m \u001b[1m0s\u001b[0m 1ms/step - accuracy: 0.9665 - loss: 0.1786 - val_accuracy: 0.7933 - val_loss: 0.4088\n",
            "Epoch 39/100\n",
            "\u001b[1m44/44\u001b[0m \u001b[32m━━━━━━━━━━━━━━━━━━━━\u001b[0m\u001b[37m\u001b[0m \u001b[1m0s\u001b[0m 1ms/step - accuracy: 0.9463 - loss: 0.1973 - val_accuracy: 0.7933 - val_loss: 0.4142\n",
            "Epoch 40/100\n",
            "\u001b[1m44/44\u001b[0m \u001b[32m━━━━━━━━━━━━━━━━━━━━\u001b[0m\u001b[37m\u001b[0m \u001b[1m0s\u001b[0m 1ms/step - accuracy: 0.9588 - loss: 0.1830 - val_accuracy: 0.8167 - val_loss: 0.5492\n",
            "Epoch 41/100\n",
            "\u001b[1m44/44\u001b[0m \u001b[32m━━━━━━━━━━━━━━━━━━━━\u001b[0m\u001b[37m\u001b[0m \u001b[1m0s\u001b[0m 1ms/step - accuracy: 0.8910 - loss: 0.3985 - val_accuracy: 0.7900 - val_loss: 0.3943\n",
            "Epoch 42/100\n",
            "\u001b[1m44/44\u001b[0m \u001b[32m━━━━━━━━━━━━━━━━━━━━\u001b[0m\u001b[37m\u001b[0m \u001b[1m0s\u001b[0m 1ms/step - accuracy: 0.9392 - loss: 0.1753 - val_accuracy: 0.7967 - val_loss: 0.3866\n",
            "Epoch 43/100\n",
            "\u001b[1m44/44\u001b[0m \u001b[32m━━━━━━━━━━━━━━━━━━━━\u001b[0m\u001b[37m\u001b[0m \u001b[1m0s\u001b[0m 1ms/step - accuracy: 0.9779 - loss: 0.1499 - val_accuracy: 0.8000 - val_loss: 0.3798\n",
            "Epoch 44/100\n",
            "\u001b[1m44/44\u001b[0m \u001b[32m━━━━━━━━━━━━━━━━━━━━\u001b[0m\u001b[37m\u001b[0m \u001b[1m0s\u001b[0m 1ms/step - accuracy: 0.9748 - loss: 0.1439 - val_accuracy: 0.8133 - val_loss: 0.4975\n",
            "Epoch 45/100\n",
            "\u001b[1m44/44\u001b[0m \u001b[32m━━━━━━━━━━━━━━━━━━━━\u001b[0m\u001b[37m\u001b[0m \u001b[1m0s\u001b[0m 1ms/step - accuracy: 0.9689 - loss: 0.1397 - val_accuracy: 0.8100 - val_loss: 0.4527\n",
            "Epoch 46/100\n",
            "\u001b[1m44/44\u001b[0m \u001b[32m━━━━━━━━━━━━━━━━━━━━\u001b[0m\u001b[37m\u001b[0m \u001b[1m0s\u001b[0m 1ms/step - accuracy: 0.9796 - loss: 0.1347 - val_accuracy: 0.7933 - val_loss: 0.4507\n",
            "Epoch 47/100\n",
            "\u001b[1m44/44\u001b[0m \u001b[32m━━━━━━━━━━━━━━━━━━━━\u001b[0m\u001b[37m\u001b[0m \u001b[1m0s\u001b[0m 1ms/step - accuracy: 0.9857 - loss: 0.1132 - val_accuracy: 0.8033 - val_loss: 0.4911\n",
            "Epoch 48/100\n",
            "\u001b[1m44/44\u001b[0m \u001b[32m━━━━━━━━━━━━━━━━━━━━\u001b[0m\u001b[37m\u001b[0m \u001b[1m0s\u001b[0m 1ms/step - accuracy: 0.9822 - loss: 0.1256 - val_accuracy: 0.8000 - val_loss: 0.4907\n",
            "Epoch 49/100\n",
            "\u001b[1m44/44\u001b[0m \u001b[32m━━━━━━━━━━━━━━━━━━━━\u001b[0m\u001b[37m\u001b[0m \u001b[1m0s\u001b[0m 1ms/step - accuracy: 0.9875 - loss: 0.1246 - val_accuracy: 0.8000 - val_loss: 0.4170\n",
            "Epoch 50/100\n",
            "\u001b[1m44/44\u001b[0m \u001b[32m━━━━━━━━━━━━━━━━━━━━\u001b[0m\u001b[37m\u001b[0m \u001b[1m0s\u001b[0m 1ms/step - accuracy: 0.9939 - loss: 0.0914 - val_accuracy: 0.7967 - val_loss: 0.4532\n",
            "Epoch 51/100\n",
            "\u001b[1m44/44\u001b[0m \u001b[32m━━━━━━━━━━━━━━━━━━━━\u001b[0m\u001b[37m\u001b[0m \u001b[1m0s\u001b[0m 1ms/step - accuracy: 0.9890 - loss: 0.0964 - val_accuracy: 0.8033 - val_loss: 0.4903\n",
            "Epoch 52/100\n",
            "\u001b[1m44/44\u001b[0m \u001b[32m━━━━━━━━━━━━━━━━━━━━\u001b[0m\u001b[37m\u001b[0m \u001b[1m0s\u001b[0m 1ms/step - accuracy: 0.9869 - loss: 0.0988 - val_accuracy: 0.7967 - val_loss: 0.4526\n",
            "Epoch 53/100\n",
            "\u001b[1m44/44\u001b[0m \u001b[32m━━━━━━━━━━━━━━━━━━━━\u001b[0m\u001b[37m\u001b[0m \u001b[1m0s\u001b[0m 1ms/step - accuracy: 0.9777 - loss: 0.1298 - val_accuracy: 0.7933 - val_loss: 0.4935\n",
            "Epoch 54/100\n",
            "\u001b[1m44/44\u001b[0m \u001b[32m━━━━━━━━━━━━━━━━━━━━\u001b[0m\u001b[37m\u001b[0m \u001b[1m0s\u001b[0m 1ms/step - accuracy: 0.9882 - loss: 0.1027 - val_accuracy: 0.7933 - val_loss: 0.5311\n",
            "Epoch 55/100\n",
            "\u001b[1m44/44\u001b[0m \u001b[32m━━━━━━━━━━━━━━━━━━━━\u001b[0m\u001b[37m\u001b[0m \u001b[1m0s\u001b[0m 2ms/step - accuracy: 0.9857 - loss: 0.0948 - val_accuracy: 0.8000 - val_loss: 0.4650\n",
            "Epoch 56/100\n",
            "\u001b[1m44/44\u001b[0m \u001b[32m━━━━━━━━━━━━━━━━━━━━\u001b[0m\u001b[37m\u001b[0m \u001b[1m0s\u001b[0m 1ms/step - accuracy: 0.9907 - loss: 0.0769 - val_accuracy: 0.8000 - val_loss: 0.4635\n",
            "Epoch 57/100\n",
            "\u001b[1m44/44\u001b[0m \u001b[32m━━━━━━━━━━━━━━━━━━━━\u001b[0m\u001b[37m\u001b[0m \u001b[1m0s\u001b[0m 1ms/step - accuracy: 0.9900 - loss: 0.0770 - val_accuracy: 0.8033 - val_loss: 0.5198\n",
            "Epoch 58/100\n",
            "\u001b[1m44/44\u001b[0m \u001b[32m━━━━━━━━━━━━━━━━━━━━\u001b[0m\u001b[37m\u001b[0m \u001b[1m0s\u001b[0m 1ms/step - accuracy: 0.9894 - loss: 0.0748 - val_accuracy: 0.7967 - val_loss: 0.5380\n",
            "Epoch 59/100\n",
            "\u001b[1m44/44\u001b[0m \u001b[32m━━━━━━━━━━━━━━━━━━━━\u001b[0m\u001b[37m\u001b[0m \u001b[1m0s\u001b[0m 1ms/step - accuracy: 0.9932 - loss: 0.0813 - val_accuracy: 0.8000 - val_loss: 0.5592\n",
            "Epoch 60/100\n",
            "\u001b[1m44/44\u001b[0m \u001b[32m━━━━━━━━━━━━━━━━━━━━\u001b[0m\u001b[37m\u001b[0m \u001b[1m0s\u001b[0m 1ms/step - accuracy: 0.9952 - loss: 0.0627 - val_accuracy: 0.7967 - val_loss: 0.5604\n",
            "Epoch 61/100\n",
            "\u001b[1m44/44\u001b[0m \u001b[32m━━━━━━━━━━━━━━━━━━━━\u001b[0m\u001b[37m\u001b[0m \u001b[1m0s\u001b[0m 1ms/step - accuracy: 0.9961 - loss: 0.0646 - val_accuracy: 0.8167 - val_loss: 0.5811\n",
            "Epoch 62/100\n",
            "\u001b[1m44/44\u001b[0m \u001b[32m━━━━━━━━━━━━━━━━━━━━\u001b[0m\u001b[37m\u001b[0m \u001b[1m0s\u001b[0m 1ms/step - accuracy: 0.9974 - loss: 0.0649 - val_accuracy: 0.8033 - val_loss: 0.5449\n",
            "Epoch 63/100\n",
            "\u001b[1m44/44\u001b[0m \u001b[32m━━━━━━━━━━━━━━━━━━━━\u001b[0m\u001b[37m\u001b[0m \u001b[1m0s\u001b[0m 1ms/step - accuracy: 0.9904 - loss: 0.0665 - val_accuracy: 0.8033 - val_loss: 0.5780\n",
            "Epoch 64/100\n",
            "\u001b[1m44/44\u001b[0m \u001b[32m━━━━━━━━━━━━━━━━━━━━\u001b[0m\u001b[37m\u001b[0m \u001b[1m0s\u001b[0m 1ms/step - accuracy: 0.9852 - loss: 0.0707 - val_accuracy: 0.7967 - val_loss: 0.5405\n",
            "Epoch 65/100\n",
            "\u001b[1m44/44\u001b[0m \u001b[32m━━━━━━━━━━━━━━━━━━━━\u001b[0m\u001b[37m\u001b[0m \u001b[1m0s\u001b[0m 1ms/step - accuracy: 0.9964 - loss: 0.0548 - val_accuracy: 0.8067 - val_loss: 0.5473\n",
            "Epoch 66/100\n",
            "\u001b[1m44/44\u001b[0m \u001b[32m━━━━━━━━━━━━━━━━━━━━\u001b[0m\u001b[37m\u001b[0m \u001b[1m0s\u001b[0m 1ms/step - accuracy: 0.9961 - loss: 0.0526 - val_accuracy: 0.8000 - val_loss: 0.5645\n",
            "Epoch 67/100\n",
            "\u001b[1m44/44\u001b[0m \u001b[32m━━━━━━━━━━━━━━━━━━━━\u001b[0m\u001b[37m\u001b[0m \u001b[1m0s\u001b[0m 1ms/step - accuracy: 1.0000 - loss: 0.0514 - val_accuracy: 0.8000 - val_loss: 0.5869\n",
            "Epoch 68/100\n",
            "\u001b[1m44/44\u001b[0m \u001b[32m━━━━━━━━━━━━━━━━━━━━\u001b[0m\u001b[37m\u001b[0m \u001b[1m0s\u001b[0m 1ms/step - accuracy: 1.0000 - loss: 0.0559 - val_accuracy: 0.7967 - val_loss: 0.5985\n",
            "Epoch 69/100\n",
            "\u001b[1m44/44\u001b[0m \u001b[32m━━━━━━━━━━━━━━━━━━━━\u001b[0m\u001b[37m\u001b[0m \u001b[1m0s\u001b[0m 1ms/step - accuracy: 0.9989 - loss: 0.0597 - val_accuracy: 0.8033 - val_loss: 0.5996\n",
            "Epoch 70/100\n",
            "\u001b[1m44/44\u001b[0m \u001b[32m━━━━━━━━━━━━━━━━━━━━\u001b[0m\u001b[37m\u001b[0m \u001b[1m0s\u001b[0m 1ms/step - accuracy: 0.9992 - loss: 0.0457 - val_accuracy: 0.8033 - val_loss: 0.6151\n",
            "Epoch 71/100\n",
            "\u001b[1m44/44\u001b[0m \u001b[32m━━━━━━━━━━━━━━━━━━━━\u001b[0m\u001b[37m\u001b[0m \u001b[1m0s\u001b[0m 1ms/step - accuracy: 0.9956 - loss: 0.0420 - val_accuracy: 0.8000 - val_loss: 0.6063\n",
            "Epoch 72/100\n",
            "\u001b[1m44/44\u001b[0m \u001b[32m━━━━━━━━━━━━━━━━━━━━\u001b[0m\u001b[37m\u001b[0m \u001b[1m0s\u001b[0m 1ms/step - accuracy: 0.9957 - loss: 0.0432 - val_accuracy: 0.8167 - val_loss: 0.6755\n",
            "Epoch 73/100\n",
            "\u001b[1m44/44\u001b[0m \u001b[32m━━━━━━━━━━━━━━━━━━━━\u001b[0m\u001b[37m\u001b[0m \u001b[1m0s\u001b[0m 1ms/step - accuracy: 0.9928 - loss: 0.0464 - val_accuracy: 0.8067 - val_loss: 0.6757\n",
            "Epoch 74/100\n",
            "\u001b[1m44/44\u001b[0m \u001b[32m━━━━━━━━━━━━━━━━━━━━\u001b[0m\u001b[37m\u001b[0m \u001b[1m0s\u001b[0m 1ms/step - accuracy: 1.0000 - loss: 0.0362 - val_accuracy: 0.8200 - val_loss: 0.6279\n",
            "Epoch 75/100\n",
            "\u001b[1m44/44\u001b[0m \u001b[32m━━━━━━━━━━━━━━━━━━━━\u001b[0m\u001b[37m\u001b[0m \u001b[1m0s\u001b[0m 1ms/step - accuracy: 0.9993 - loss: 0.0368 - val_accuracy: 0.8100 - val_loss: 0.6770\n",
            "Epoch 76/100\n",
            "\u001b[1m44/44\u001b[0m \u001b[32m━━━━━━━━━━━━━━━━━━━━\u001b[0m\u001b[37m\u001b[0m \u001b[1m0s\u001b[0m 1ms/step - accuracy: 1.0000 - loss: 0.0393 - val_accuracy: 0.8000 - val_loss: 0.6221\n",
            "Epoch 77/100\n",
            "\u001b[1m44/44\u001b[0m \u001b[32m━━━━━━━━━━━━━━━━━━━━\u001b[0m\u001b[37m\u001b[0m \u001b[1m0s\u001b[0m 1ms/step - accuracy: 0.9998 - loss: 0.0370 - val_accuracy: 0.8000 - val_loss: 0.6540\n",
            "Epoch 78/100\n",
            "\u001b[1m44/44\u001b[0m \u001b[32m━━━━━━━━━━━━━━━━━━━━\u001b[0m\u001b[37m\u001b[0m \u001b[1m0s\u001b[0m 1ms/step - accuracy: 1.0000 - loss: 0.0429 - val_accuracy: 0.8033 - val_loss: 0.6585\n",
            "Epoch 79/100\n",
            "\u001b[1m44/44\u001b[0m \u001b[32m━━━━━━━━━━━━━━━━━━━━\u001b[0m\u001b[37m\u001b[0m \u001b[1m0s\u001b[0m 1ms/step - accuracy: 1.0000 - loss: 0.0335 - val_accuracy: 0.8133 - val_loss: 0.6714\n",
            "Epoch 80/100\n",
            "\u001b[1m44/44\u001b[0m \u001b[32m━━━━━━━━━━━━━━━━━━━━\u001b[0m\u001b[37m\u001b[0m \u001b[1m0s\u001b[0m 1ms/step - accuracy: 0.9982 - loss: 0.0344 - val_accuracy: 0.8133 - val_loss: 0.6812\n",
            "Epoch 81/100\n",
            "\u001b[1m44/44\u001b[0m \u001b[32m━━━━━━━━━━━━━━━━━━━━\u001b[0m\u001b[37m\u001b[0m \u001b[1m0s\u001b[0m 1ms/step - accuracy: 0.9963 - loss: 0.0359 - val_accuracy: 0.8133 - val_loss: 0.6828\n",
            "Epoch 82/100\n",
            "\u001b[1m44/44\u001b[0m \u001b[32m━━━━━━━━━━━━━━━━━━━━\u001b[0m\u001b[37m\u001b[0m \u001b[1m0s\u001b[0m 1ms/step - accuracy: 1.0000 - loss: 0.0360 - val_accuracy: 0.7967 - val_loss: 0.6960\n",
            "Epoch 83/100\n",
            "\u001b[1m44/44\u001b[0m \u001b[32m━━━━━━━━━━━━━━━━━━━━\u001b[0m\u001b[37m\u001b[0m \u001b[1m0s\u001b[0m 1ms/step - accuracy: 0.9968 - loss: 0.0393 - val_accuracy: 0.8033 - val_loss: 0.6845\n",
            "Epoch 84/100\n",
            "\u001b[1m44/44\u001b[0m \u001b[32m━━━━━━━━━━━━━━━━━━━━\u001b[0m\u001b[37m\u001b[0m \u001b[1m0s\u001b[0m 1ms/step - accuracy: 0.9998 - loss: 0.0275 - val_accuracy: 0.8067 - val_loss: 0.6843\n",
            "Epoch 85/100\n",
            "\u001b[1m44/44\u001b[0m \u001b[32m━━━━━━━━━━━━━━━━━━━━\u001b[0m\u001b[37m\u001b[0m \u001b[1m0s\u001b[0m 1ms/step - accuracy: 1.0000 - loss: 0.0256 - val_accuracy: 0.8133 - val_loss: 0.6869\n",
            "Epoch 86/100\n",
            "\u001b[1m44/44\u001b[0m \u001b[32m━━━━━━━━━━━━━━━━━━━━\u001b[0m\u001b[37m\u001b[0m \u001b[1m0s\u001b[0m 1ms/step - accuracy: 0.9960 - loss: 0.0345 - val_accuracy: 0.8067 - val_loss: 0.6873\n",
            "Epoch 87/100\n",
            "\u001b[1m44/44\u001b[0m \u001b[32m━━━━━━━━━━━━━━━━━━━━\u001b[0m\u001b[37m\u001b[0m \u001b[1m0s\u001b[0m 1ms/step - accuracy: 0.9973 - loss: 0.0330 - val_accuracy: 0.7933 - val_loss: 0.7289\n",
            "Epoch 88/100\n",
            "\u001b[1m44/44\u001b[0m \u001b[32m━━━━━━━━━━━━━━━━━━━━\u001b[0m\u001b[37m\u001b[0m \u001b[1m0s\u001b[0m 1ms/step - accuracy: 1.0000 - loss: 0.0232 - val_accuracy: 0.7967 - val_loss: 0.7276\n",
            "Epoch 89/100\n",
            "\u001b[1m44/44\u001b[0m \u001b[32m━━━━━━━━━━━━━━━━━━━━\u001b[0m\u001b[37m\u001b[0m \u001b[1m0s\u001b[0m 1ms/step - accuracy: 0.9964 - loss: 0.0296 - val_accuracy: 0.8067 - val_loss: 0.7292\n",
            "Epoch 90/100\n",
            "\u001b[1m44/44\u001b[0m \u001b[32m━━━━━━━━━━━━━━━━━━━━\u001b[0m\u001b[37m\u001b[0m \u001b[1m0s\u001b[0m 1ms/step - accuracy: 1.0000 - loss: 0.0335 - val_accuracy: 0.8100 - val_loss: 0.7258\n",
            "Epoch 91/100\n",
            "\u001b[1m44/44\u001b[0m \u001b[32m━━━━━━━━━━━━━━━━━━━━\u001b[0m\u001b[37m\u001b[0m \u001b[1m0s\u001b[0m 1ms/step - accuracy: 0.9990 - loss: 0.0245 - val_accuracy: 0.8033 - val_loss: 0.7388\n",
            "Epoch 92/100\n",
            "\u001b[1m44/44\u001b[0m \u001b[32m━━━━━━━━━━━━━━━━━━━━\u001b[0m\u001b[37m\u001b[0m \u001b[1m0s\u001b[0m 1ms/step - accuracy: 1.0000 - loss: 0.0226 - val_accuracy: 0.8033 - val_loss: 0.7326\n",
            "Epoch 93/100\n",
            "\u001b[1m44/44\u001b[0m \u001b[32m━━━━━━━━━━━━━━━━━━━━\u001b[0m\u001b[37m\u001b[0m \u001b[1m0s\u001b[0m 1ms/step - accuracy: 0.9939 - loss: 0.0324 - val_accuracy: 0.8033 - val_loss: 0.7335\n",
            "Epoch 94/100\n",
            "\u001b[1m44/44\u001b[0m \u001b[32m━━━━━━━━━━━━━━━━━━━━\u001b[0m\u001b[37m\u001b[0m \u001b[1m0s\u001b[0m 1ms/step - accuracy: 0.9995 - loss: 0.0242 - val_accuracy: 0.8033 - val_loss: 0.7362\n",
            "Epoch 95/100\n",
            "\u001b[1m44/44\u001b[0m \u001b[32m━━━━━━━━━━━━━━━━━━━━\u001b[0m\u001b[37m\u001b[0m \u001b[1m0s\u001b[0m 1ms/step - accuracy: 1.0000 - loss: 0.0183 - val_accuracy: 0.8067 - val_loss: 0.7331\n",
            "Epoch 96/100\n",
            "\u001b[1m44/44\u001b[0m \u001b[32m━━━━━━━━━━━━━━━━━━━━\u001b[0m\u001b[37m\u001b[0m \u001b[1m0s\u001b[0m 1ms/step - accuracy: 1.0000 - loss: 0.0282 - val_accuracy: 0.7967 - val_loss: 0.7396\n",
            "Epoch 97/100\n",
            "\u001b[1m44/44\u001b[0m \u001b[32m━━━━━━━━━━━━━━━━━━━━\u001b[0m\u001b[37m\u001b[0m \u001b[1m0s\u001b[0m 1ms/step - accuracy: 0.9982 - loss: 0.0206 - val_accuracy: 0.8067 - val_loss: 0.7359\n",
            "Epoch 98/100\n",
            "\u001b[1m44/44\u001b[0m \u001b[32m━━━━━━━━━━━━━━━━━━━━\u001b[0m\u001b[37m\u001b[0m \u001b[1m0s\u001b[0m 1ms/step - accuracy: 1.0000 - loss: 0.0200 - val_accuracy: 0.8000 - val_loss: 0.7828\n",
            "Epoch 99/100\n",
            "\u001b[1m44/44\u001b[0m \u001b[32m━━━━━━━━━━━━━━━━━━━━\u001b[0m\u001b[37m\u001b[0m \u001b[1m0s\u001b[0m 1ms/step - accuracy: 1.0000 - loss: 0.0218 - val_accuracy: 0.8133 - val_loss: 0.7721\n",
            "Epoch 100/100\n",
            "\u001b[1m44/44\u001b[0m \u001b[32m━━━━━━━━━━━━━━━━━━━━\u001b[0m\u001b[37m\u001b[0m \u001b[1m0s\u001b[0m 1ms/step - accuracy: 1.0000 - loss: 0.0190 - val_accuracy: 0.8133 - val_loss: 0.7703\n"
          ]
        }
      ],
      "source": [
        "num_epochs=100\n",
        "model = Sequential()\n",
        "model.add(Input(shape=(X.shape[1],)))\n",
        "model.add(Dense(units=64, activation='tanh'))\n",
        "model.add(Dropout(0.8))\n",
        "model.add(Dense(units=1, activation='hard_sigmoid')) # for computation efficiency\n",
        "model.compile(loss=binary_crossentropy, metrics=['accuracy'],\n",
        "              optimizer=SGD(learning_rate=0.01,\n",
        "                            momentum=0.9, nesterov=True))\n",
        "history=model.fit(np.array(X_train), y_train, \n",
        "                  epochs=num_epochs, \n",
        "                  batch_size=16,\n",
        "                  validation_data=(np.array(X_test), y_test),\n",
        "                  verbose=1)"
      ]
    },
    {
      "cell_type": "markdown",
      "metadata": {
        "id": "12CMUFtWyr3l"
      },
      "source": [
        "## Show the learning curves\n",
        "\n",
        "1. Loss vs Epoch (training and validation)\n",
        "2. Accuracy vs Epoch (training and validation)"
      ]
    },
    {
      "cell_type": "code",
      "execution_count": 17,
      "metadata": {
        "colab": {
          "base_uri": "https://localhost:8080/",
          "height": 299
        },
        "id": "hWR8wgNPHfQd",
        "outputId": "15a4c77f-b0cd-4a96-f9a0-15d024d69bc5"
      },
      "outputs": [
        {
          "data": {
            "image/png": "[encoded data removed]",
            "text/plain": [
              "<Figure size 640x480 with 1 Axes>"
            ]
          },
          "metadata": {},
          "output_type": "display_data"
        }
      ],
      "source": [
        "def plot_graphs(H, metric):\n",
        "  plt.style.use(\"ggplot\")\n",
        "  plt.figure()\n",
        "  plt.plot(np.arange(0, num_epochs), H.history[\"loss\"], label=\"train_loss\")\n",
        "  plt.plot(np.arange(0, num_epochs), H.history[\"val_loss\"], label=\"val_loss\")\n",
        "  plt.plot(np.arange(0, num_epochs), H.history[\"accuracy\"], label=\"train_acc\")\n",
        "  plt.plot(np.arange(0, num_epochs), H.history[\"val_accuracy\"], label=\"val_acc\")\n",
        "  plt.title(\"Training Loss and Accuracy\")\n",
        "  plt.xlabel(\"Epoch #\" )\n",
        "  plt.ylabel(\"Loss/Accuracy\" )\n",
        "  plt.legend()\n",
        "  plt.savefig(\"model history\")\n",
        "  plt.show( )\n",
        "plot_graphs(history,'acc')"
      ]
    },
    {
      "cell_type": "markdown",
      "metadata": {
        "id": "cd2vmw7rgibM"
      },
      "source": [
        "## Predicting with the Model\n",
        "\n",
        "To evaluate the performance of our model on the test set (`X_test`), we can use the `predict()` method of the model. Here's the code to predict the model on `X_test`:"
      ]
    },
    {
      "cell_type": "code",
      "execution_count": 18,
      "metadata": {
        "id": "19OkYT09Kq6z"
      },
      "outputs": [
        {
          "name": "stdout",
          "output_type": "stream",
          "text": [
            "\u001b[1m10/10\u001b[0m \u001b[32m━━━━━━━━━━━━━━━━━━━━\u001b[0m\u001b[37m\u001b[0m \u001b[1m0s\u001b[0m 11ms/step\n"
          ]
        }
      ],
      "source": [
        "preds = model.predict(X_test)"
      ]
    },
    {
      "cell_type": "code",
      "execution_count": 19,
      "metadata": {
        "id": "KboqsFfsLLyl"
      },
      "outputs": [],
      "source": [
        "preds=[round(each[0]) for each in preds]\n",
        "y_test_cm= [each for each in y_test]"
      ]
    },
    {
      "cell_type": "markdown",
      "metadata": {
        "id": "SeHKnMY7zB6I"
      },
      "source": [
        "## Confusion Matrix analysis "
      ]
    },
    {
      "cell_type": "code",
      "execution_count": 20,
      "metadata": {
        "colab": {
          "base_uri": "https://localhost:8080/",
          "height": 112
        },
        "id": "SFHAD9iEJ5Gs",
        "outputId": "bac53bf7-4289-45d7-b46c-808c67696083"
      },
      "outputs": [
        {
          "data": {
            "text/html": [
              "<div>\n",
              "<style scoped>\n",
              "    .dataframe tbody tr th:only-of-type {\n",
              "        vertical-align: middle;\n",
              "    }\n",
              "\n",
              "    .dataframe tbody tr th {\n",
              "        vertical-align: top;\n",
              "    }\n",
              "\n",
              "    .dataframe thead th {\n",
              "        text-align: right;\n",
              "    }\n",
              "</style>\n",
              "<table border=\"1\" class=\"dataframe\">\n",
              "  <thead>\n",
              "    <tr style=\"text-align: right;\">\n",
              "      <th></th>\n",
              "      <th>Negative</th>\n",
              "      <th>Positive</th>\n",
              "    </tr>\n",
              "  </thead>\n",
              "  <tbody>\n",
              "    <tr>\n",
              "      <th>Negative</th>\n",
              "      <td>130</td>\n",
              "      <td>25</td>\n",
              "    </tr>\n",
              "    <tr>\n",
              "      <th>Positive</th>\n",
              "      <td>32</td>\n",
              "      <td>113</td>\n",
              "    </tr>\n",
              "  </tbody>\n",
              "</table>\n",
              "</div>"
            ],
            "text/plain": [
              "          Negative  Positive\n",
              "Negative       130        25\n",
              "Positive        32       113"
            ]
          },
          "execution_count": 20,
          "metadata": {},
          "output_type": "execute_result"
        }
      ],
      "source": [
        "cm = confusion_matrix(y_true=y_test_cm, y_pred=preds)\n",
        "df_cm = pd.DataFrame(data=cm, index=['Negative', 'Positive'], columns=['Negative', 'Positive'])\n",
        "df_cm.head()"
      ]
    },
    {
      "cell_type": "markdown",
      "metadata": {
        "id": "Dkx1wPfp0Hez"
      },
      "source": [
        "## Classification Report analysis"
      ]
    },
    {
      "cell_type": "code",
      "execution_count": 21,
      "metadata": {
        "colab": {
          "base_uri": "https://localhost:8080/"
        },
        "id": "lJmWnZXoMBiS",
        "outputId": "58d17bed-a15b-41ed-ec94-4bdcc253c9ca"
      },
      "outputs": [
        {
          "name": "stdout",
          "output_type": "stream",
          "text": [
            "              precision    recall  f1-score   support\n",
            "\n",
            "           0       0.80      0.84      0.82       155\n",
            "           1       0.82      0.78      0.80       145\n",
            "\n",
            "    accuracy                           0.81       300\n",
            "   macro avg       0.81      0.81      0.81       300\n",
            "weighted avg       0.81      0.81      0.81       300\n",
            "\n"
          ]
        }
      ],
      "source": [
        "print(classification_report(y_true=y_test_cm, y_pred=preds))"
      ]
    },
    {
      "cell_type": "markdown",
      "metadata": {},
      "source": [
        "### Make Prediction On New Text Reviews\n",
        "\n",
        "To predict whether the following text reviews are positive or negative and provide the probability in %, you can use the `predict_results()` function. Here's the code:"
      ]
    },
    {
      "cell_type": "code",
      "execution_count": 22,
      "metadata": {},
      "outputs": [],
      "source": [
        "newPositiveText='I love this movie honestly.'\n",
        "newNegativeText='This show is the worst show in the century. Oh my god it was TERRIBLE'\n"
      ]
    },
    {
      "cell_type": "code",
      "execution_count": 23,
      "metadata": {},
      "outputs": [
        {
          "name": "stdout",
          "output_type": "stream",
          "text": [
            "\u001b[1m1/1\u001b[0m \u001b[32m━━━━━━━━━━━━━━━━━━━━\u001b[0m\u001b[37m\u001b[0m \u001b[1m0s\u001b[0m 96ms/step\n"
          ]
        },
        {
          "name": "stdout",
          "output_type": "stream",
          "text": [
            "'I love this movie honestly.'\n",
            "Prediction: Positive 100.00%\n",
            "\u001b[1m1/1\u001b[0m \u001b[32m━━━━━━━━━━━━━━━━━━━━\u001b[0m\u001b[37m\u001b[0m \u001b[1m0s\u001b[0m 12ms/step\n",
            "'This show is the worst show in the century. Oh my god it was TERRIBLE'\n",
            "Prediction: Negative 0.00%\n"
          ]
        }
      ],
      "source": [
        "def predict_results(text):\n",
        "  pred=model.predict(te.transform([text]))\n",
        "  if round(pred[0][0]) ==1:\n",
        "    print(\"'{}'\".format(text))\n",
        "    print('Prediction: Positive {:.2%}'.format(pred[0][0]) )\n",
        "  else:\n",
        "    print(\"'{}'\".format(text))\n",
        "    print('Prediction: Negative {:.2%}'.format(pred[0][0]) )\n",
        "predict_results(newPositiveText)\n",
        "predict_results(newNegativeText)"
      ]
    }
  ],
  "metadata": {
    "colab": {
      "collapsed_sections": [],
      "name": "STUDENT_MockTest.ipynb",
      "provenance": [],
      "toc_visible": true
    },
    "kernelspec": {
      "display_name": "Python 3",
      "name": "python3"
    },
    "language_info": {
      "codemirror_mode": {
        "name": "ipython",
        "version": 3
      },
      "file_extension": ".py",
      "mimetype": "text/x-python",
      "name": "python",
      "nbconvert_exporter": "python",
      "pygments_lexer": "ipython3",
      "version": "3.11.5"
    }
  },
  "nbformat": 4,
  "nbformat_minor": 0
}
